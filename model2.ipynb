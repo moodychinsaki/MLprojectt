{
  "cells": [
    {
      "cell_type": "markdown",
      "metadata": {
        "id": "view-in-github",
        "colab_type": "text"
      },
      "source": [
        "<a href=\"https://colab.research.google.com/github/moodychinsaki/MLprojectt/blob/main/model2.ipynb\" target=\"_parent\"><img src=\"https://colab.research.google.com/assets/colab-badge.svg\" alt=\"Open In Colab\"/></a>"
      ]
    },
    {
      "cell_type": "markdown",
      "metadata": {
        "id": "-x5nnf-RCGCV"
      },
      "source": [
        "Model2 Hyperparameter tuning"
      ]
    },
    {
      "cell_type": "code",
      "execution_count": 1,
      "metadata": {
        "id": "-I2M3_GeBlPu"
      },
      "outputs": [],
      "source": [
        "import os\n",
        "from os import listdir, makedirs\n",
        "from os.path import isfile, join\n",
        "import pandas as pd\n",
        "from PIL import Image\n",
        "import glob\n",
        "from pathlib import Path\n",
        "import shutil\n",
        "import tensorflow as tf\n",
        "from tensorflow import keras\n",
        "from tensorflow.keras import layers\n",
        "from tensorflow.keras.preprocessing.image import ImageDataGenerator\n",
        "from sklearn.model_selection import KFold, StratifiedKFold\n",
        "from tensorflow.keras.optimizers import SGD, RMSprop\n",
        "import cv2\n",
        "from os.path import isfile,join, exists\n",
        "import zipfile\n",
        "from sklearn.model_selection import train_test_split\n",
        "import matplotlib.pyplot as plt\n",
        "import pickle\n",
        "import statistics as st\n",
        "from keras.models import Sequential\n",
        "from keras.layers import Conv2D\n",
        "from keras.layers import Activation\n",
        "from keras.layers import MaxPooling2D\n",
        "from keras.layers import Flatten\n",
        "from keras.layers import Dense\n",
        "import gc\n",
        "\n",
        "\n",
        "\n"
      ]
    },
    {
      "cell_type": "code",
      "source": [
        "pip uninstall keras-preprocessing -y"
      ],
      "metadata": {
        "colab": {
          "base_uri": "https://localhost:8080/"
        },
        "id": "Xm1fYuboO5iH",
        "outputId": "dca8e9e5-e599-4257-bf5b-52625089df6f"
      },
      "execution_count": 2,
      "outputs": [
        {
          "output_type": "stream",
          "name": "stdout",
          "text": [
            "Found existing installation: Keras-Preprocessing 1.1.2\n",
            "Uninstalling Keras-Preprocessing-1.1.2:\n",
            "  Successfully uninstalled Keras-Preprocessing-1.1.2\n"
          ]
        }
      ]
    },
    {
      "cell_type": "code",
      "source": [
        "pip install -q -U git+https://github.com/keras-team/keras-preprocessing.git"
      ],
      "metadata": {
        "colab": {
          "base_uri": "https://localhost:8080/"
        },
        "id": "QPUFERyuPDV7",
        "outputId": "39dbd853-bdd2-41d5-b779-cca2853d7f8e"
      },
      "execution_count": 3,
      "outputs": [
        {
          "output_type": "stream",
          "name": "stdout",
          "text": [
            "  Preparing metadata (setup.py) ... \u001b[?25l\u001b[?25hdone\n",
            "  Building wheel for Keras-Preprocessing (setup.py) ... \u001b[?25l\u001b[?25hdone\n"
          ]
        }
      ]
    },
    {
      "cell_type": "code",
      "execution_count": 4,
      "metadata": {
        "id": "aSsY-2nBLi7k"
      },
      "outputs": [],
      "source": [
        "pip install -q -U keras-tuner"
      ]
    },
    {
      "cell_type": "code",
      "execution_count": 5,
      "metadata": {
        "id": "rqoqmNK1LYnH"
      },
      "outputs": [],
      "source": [
        "import keras_tuner as kt"
      ]
    },
    {
      "cell_type": "markdown",
      "metadata": {
        "id": "WgYMokOPYoY7"
      },
      "source": [
        "## Get the data from cloud"
      ]
    },
    {
      "cell_type": "code",
      "execution_count": 6,
      "metadata": {
        "id": "m1VD1HkYXelG",
        "colab": {
          "base_uri": "https://localhost:8080/"
        },
        "outputId": "92537d31-632e-429d-9cc7-2c30b6cd7c07"
      },
      "outputs": [
        {
          "output_type": "stream",
          "name": "stdout",
          "text": [
            "Drive already mounted at /content/drive; to attempt to forcibly remount, call drive.mount(\"/content/drive\", force_remount=True).\n"
          ]
        }
      ],
      "source": [
        "from google.colab import drive\n",
        "drive.mount('/content/drive')"
      ]
    },
    {
      "cell_type": "code",
      "execution_count": 7,
      "metadata": {
        "id": "V6QvkZFwXe6j"
      },
      "outputs": [],
      "source": [
        "zip_ref = zipfile.ZipFile('/content/drive/MyDrive/CatsDogs.zip', 'r') # Open the zip file containing all the images\n",
        "zip_ref.extractall('/tmp') # Extract the file in /tmp folder\n",
        "zip_ref.close()"
      ]
    },
    {
      "cell_type": "markdown",
      "metadata": {
        "id": "ZOgqsnvqkMjj"
      },
      "source": [
        "## Removing corrupted images"
      ]
    },
    {
      "cell_type": "code",
      "execution_count": 8,
      "metadata": {
        "id": "o8WZCFi0CAS3"
      },
      "outputs": [],
      "source": [
        "# Assignment of paths\n",
        "cat_path = glob.glob(\"./../tmp/CatsDogs/Cats/*.jpg\")\n",
        "dog_path = glob.glob(\"./../tmp/CatsDogs/Dogs/*.jpg\")\n",
        "paths = list([cat_path, dog_path])"
      ]
    },
    {
      "cell_type": "code",
      "source": [
        "#  generic code for removing corrupted images\n",
        "num_skipped = 0\n",
        "total = 0\n",
        "for path in paths:\n",
        "  for filename in path:\n",
        "    if os.path.exists(filename):\n",
        "      try:\n",
        "        total += 1\n",
        "        with open(filename, \"rb\") as fobj:\n",
        "          is_jfif = tf.compat.as_bytes(\"JFIF\") in fobj.peek(10)\n",
        "      except IOError:\n",
        "        pass\n",
        "      if not is_jfif:\n",
        "        num_skipped += 1\n",
        "        # Deleting corrupted image\n",
        "        os.remove(filename)\n",
        " \n",
        "\n"
      ],
      "metadata": {
        "id": "Vi7B7Hr59frl"
      },
      "execution_count": 9,
      "outputs": []
    },
    {
      "cell_type": "markdown",
      "source": [
        "**Concatanete data frames **\n",
        "not stratifying this time"
      ],
      "metadata": {
        "id": "cjJBBoBKEOdE"
      }
    },
    {
      "cell_type": "code",
      "source": [
        "df_cat = pd.DataFrame({\"img_name\": [f\"/tmp/CatsDogs/Cats/{i}\" for i in os.listdir('/tmp/CatsDogs/Cats')]})\n",
        "df_cat[\"label\"] = \"cat\"\n",
        "df_dog = pd.DataFrame({\"img_name\": [f\"/tmp/CatsDogs/Dogs/{i}\" for i in os.listdir('/tmp/CatsDogs/Dogs')]})\n",
        "df_dog[\"label\"] = \"dog\"\n",
        "ash_df = pd.concat([df_cat, df_dog], ignore_index=True)\n",
        "ash_df = ash_df.sample(frac=1, random_state = 789).reset_index(drop=True) # shuffles and drops old index, shuffle is reproducable"
      ],
      "metadata": {
        "id": "6YwlRvLkDwOj"
      },
      "execution_count": 10,
      "outputs": []
    },
    {
      "cell_type": "code",
      "source": [
        "# Splits as training set and test set\n",
        "trainPlusval_df, test_df = train_test_split(ash_df, test_size=0.2, random_state = 789)\n",
        "     \n",
        "\n",
        "# Splits training set into training and validation set (15% validation)\n",
        "train_df, val_df = train_test_split(trainPlusval_df, test_size=0.15, random_state = 789)"
      ],
      "metadata": {
        "id": "J1bfcoelDwZb"
      },
      "execution_count": 11,
      "outputs": []
    },
    {
      "cell_type": "code",
      "source": [],
      "metadata": {
        "id": "WJqylYJ3Fs9Q"
      },
      "execution_count": 11,
      "outputs": []
    },
    {
      "cell_type": "code",
      "source": [],
      "metadata": {
        "id": "2QQmmEVwQY26"
      },
      "execution_count": 11,
      "outputs": []
    },
    {
      "cell_type": "markdown",
      "source": [
        "Data generators to prevent ram crashes on **Colab** free plan"
      ],
      "metadata": {
        "id": "cB_gqjLxFuEI"
      }
    },
    {
      "cell_type": "code",
      "source": [
        "image_size = (160,160,3) # increased to 160x160 for model2hypt"
      ],
      "metadata": {
        "id": "JzKvhPe2QZ40"
      },
      "execution_count": 12,
      "outputs": []
    },
    {
      "cell_type": "code",
      "source": [
        "# Data Generators for normalising images\n",
        "imag_gen = ImageDataGenerator(rescale=1/255) "
      ],
      "metadata": {
        "id": "4ehTWxWqDwcf"
      },
      "execution_count": 13,
      "outputs": []
    },
    {
      "cell_type": "code",
      "source": [
        "# flow_from_dataframe method of ImageDataGenerator creates data generators for training, validation, and testing\n",
        "trainPlusvalid_gen = imag_gen.flow_from_dataframe(dataframe=trainPlusval_df, \n",
        "                                                            directory=None, x_col=\"img_name\",\n",
        "                                                            y_col=\"label\",\n",
        "                                                            batch_size=90, seed=789, #batch size 90 for model2hypt\n",
        "                                                            shuffle=True, class_mode=\"binary\", \n",
        "                                                            target_size=image_size[0:2]) # img size decreased to 160x160\n",
        "\n",
        "test_gen = imag_gen.flow_from_dataframe(dataframe = test_df, directory=None,\n",
        "                                                          x_col=\"img_name\", y_col=\"label\",\n",
        "                                                          batch_size=90, \n",
        "                                                          seed=789, shuffle=True, class_mode=\"binary\",\n",
        "                                                          target_size=image_size[0:2])\n",
        "\n",
        "train_gen = imag_gen.flow_from_dataframe(dataframe=train_df, \n",
        "                                                            directory=None, x_col=\"img_name\",\n",
        "                                                            y_col=\"label\",\n",
        "                                                            batch_size=90, seed=789,\n",
        "                                                            shuffle=True, class_mode=\"binary\", \n",
        "                                                            target_size=image_size[0:2])\n",
        "\n",
        "valid_gen = imag_gen.flow_from_dataframe(dataframe= val_df, \n",
        "                                                            directory=None, x_col=\"img_name\",\n",
        "                                                            y_col=\"label\",\n",
        "                                                            batch_size=90, seed=789,\n",
        "                                                            shuffle=True, class_mode=\"binary\", # 0 or 1 labels cats or dog\n",
        "                                                            target_size=image_size[0:2])"
      ],
      "metadata": {
        "colab": {
          "base_uri": "https://localhost:8080/"
        },
        "id": "N_h4WggoDwfk",
        "outputId": "f87ce2e0-b249-4994-b54b-7ffb2376d6e6"
      },
      "execution_count": 14,
      "outputs": [
        {
          "output_type": "stream",
          "name": "stdout",
          "text": [
            "Found 18728 validated image filenames belonging to 2 classes.\n",
            "Found 4682 validated image filenames belonging to 2 classes.\n",
            "Found 15918 validated image filenames belonging to 2 classes.\n",
            "Found 2810 validated image filenames belonging to 2 classes.\n"
          ]
        }
      ]
    },
    {
      "cell_type": "markdown",
      "source": [
        "Model 2 (Hyperparameter **tuning**) "
      ],
      "metadata": {
        "id": "V8GyjYjWMlSA"
      }
    },
    {
      "cell_type": "code",
      "source": [
        "model2 = Sequential(name=\"MODEL_2hypt\")\n",
        "\n",
        "# add padding to the first Conv2D layer\n",
        "model2.add(Conv2D(16, (3, 3), strides=(2, 2) ,input_shape=image_size, padding='valid'))  \n",
        "model2.add(Activation('relu'))\n",
        "model2.add(MaxPooling2D(pool_size=(2, 2))) \n",
        "\n",
        "model2.add(Conv2D(128, (3, 3), strides=(2, 2), padding='valid' ))\n",
        "model2.add(Activation('relu'))\n",
        "model2.add(MaxPooling2D(pool_size=(2, 2)))\n",
        "# added hidden layer model2hypt\n",
        "model2.add(Conv2D(256, (3, 3), strides=(2, 2), padding='valid'))\n",
        "model2.add(Activation('relu'))\n",
        "model2.add(MaxPooling2D(pool_size=(2, 2)))\n",
        "\n",
        "\n",
        "model2.add(Flatten())  \n",
        "model2.add(Dense(32))\n",
        "\n",
        "model2.add(Dense(1))\n",
        "model2.add(Activation('sigmoid'))"
      ],
      "metadata": {
        "id": "Qlg4WFTKDwlI"
      },
      "execution_count": 15,
      "outputs": []
    },
    {
      "cell_type": "code",
      "source": [
        "model2.summary()"
      ],
      "metadata": {
        "colab": {
          "base_uri": "https://localhost:8080/"
        },
        "id": "gxWxfo8QU2Y3",
        "outputId": "1eb61408-1c0d-42cb-d90c-b274d00c5fd3"
      },
      "execution_count": 16,
      "outputs": [
        {
          "output_type": "stream",
          "name": "stdout",
          "text": [
            "Model: \"MODEL_2hypt\"\n",
            "_________________________________________________________________\n",
            " Layer (type)                Output Shape              Param #   \n",
            "=================================================================\n",
            " conv2d (Conv2D)             (None, 79, 79, 16)        448       \n",
            "                                                                 \n",
            " activation (Activation)     (None, 79, 79, 16)        0         \n",
            "                                                                 \n",
            " max_pooling2d (MaxPooling2D  (None, 39, 39, 16)       0         \n",
            " )                                                               \n",
            "                                                                 \n",
            " conv2d_1 (Conv2D)           (None, 19, 19, 128)       18560     \n",
            "                                                                 \n",
            " activation_1 (Activation)   (None, 19, 19, 128)       0         \n",
            "                                                                 \n",
            " max_pooling2d_1 (MaxPooling  (None, 9, 9, 128)        0         \n",
            " 2D)                                                             \n",
            "                                                                 \n",
            " conv2d_2 (Conv2D)           (None, 4, 4, 256)         295168    \n",
            "                                                                 \n",
            " activation_2 (Activation)   (None, 4, 4, 256)         0         \n",
            "                                                                 \n",
            " max_pooling2d_2 (MaxPooling  (None, 2, 2, 256)        0         \n",
            " 2D)                                                             \n",
            "                                                                 \n",
            " flatten (Flatten)           (None, 1024)              0         \n",
            "                                                                 \n",
            " dense (Dense)               (None, 32)                32800     \n",
            "                                                                 \n",
            " dense_1 (Dense)             (None, 1)                 33        \n",
            "                                                                 \n",
            " activation_3 (Activation)   (None, 1)                 0         \n",
            "                                                                 \n",
            "=================================================================\n",
            "Total params: 347,009\n",
            "Trainable params: 347,009\n",
            "Non-trainable params: 0\n",
            "_________________________________________________________________\n"
          ]
        }
      ]
    },
    {
      "cell_type": "code",
      "source": [
        "# Compile\n",
        "#model2 = model_2_specification()\n",
        "model2.compile(optimizer=\"adam\", loss=\"binary_crossentropy\", metrics=[\"accuracy\"])\n",
        "tensorboard = keras.callbacks.TensorBoard(log_dir=\"./results\",)"
      ],
      "metadata": {
        "id": "kqzwRccCNmF-"
      },
      "execution_count": 17,
      "outputs": []
    },
    {
      "cell_type": "code",
      "source": [
        "# Fit, plot and validate the model\n",
        "step_size_train = trainPlusvalid_gen.n//trainPlusvalid_gen.batch_size\n",
        "step_size_validation = test_gen.n//test_gen.batch_size\n",
        "\n",
        "fit2 = model2.fit_generator(generator= trainPlusvalid_gen,\n",
        "                    steps_per_epoch=step_size_train,\n",
        "                    validation_data=test_gen,\n",
        "                    validation_steps=step_size_validation,\n",
        "                    epochs=20, # 20 epochs for model2hypt\n",
        "                    callbacks=[tensorboard])"
      ],
      "metadata": {
        "colab": {
          "base_uri": "https://localhost:8080/"
        },
        "id": "Bd-2FWclNnJ4",
        "outputId": "e16658e9-f0b7-479b-e89e-a3a981587025"
      },
      "execution_count": 18,
      "outputs": [
        {
          "output_type": "stream",
          "name": "stderr",
          "text": [
            "<ipython-input-18-c2c3d933b424>:5: UserWarning: `Model.fit_generator` is deprecated and will be removed in a future version. Please use `Model.fit`, which supports generators.\n",
            "  fit2 = model2.fit_generator(generator= trainPlusvalid_gen,\n"
          ]
        },
        {
          "output_type": "stream",
          "name": "stdout",
          "text": [
            "Epoch 1/20\n",
            "208/208 [==============================] - 93s 396ms/step - loss: 0.6427 - accuracy: 0.6168 - val_loss: 0.5761 - val_accuracy: 0.6953\n",
            "Epoch 2/20\n",
            "208/208 [==============================] - 82s 393ms/step - loss: 0.5171 - accuracy: 0.7425 - val_loss: 0.5056 - val_accuracy: 0.7573\n",
            "Epoch 3/20\n",
            "208/208 [==============================] - 75s 363ms/step - loss: 0.4374 - accuracy: 0.8019 - val_loss: 0.4643 - val_accuracy: 0.7880\n",
            "Epoch 4/20\n",
            "208/208 [==============================] - 78s 373ms/step - loss: 0.3808 - accuracy: 0.8305 - val_loss: 0.4509 - val_accuracy: 0.8058\n",
            "Epoch 5/20\n",
            "208/208 [==============================] - 77s 372ms/step - loss: 0.3224 - accuracy: 0.8607 - val_loss: 0.4192 - val_accuracy: 0.8173\n",
            "Epoch 6/20\n",
            "208/208 [==============================] - 81s 391ms/step - loss: 0.2710 - accuracy: 0.8838 - val_loss: 0.4375 - val_accuracy: 0.8190\n",
            "Epoch 7/20\n",
            "208/208 [==============================] - 83s 397ms/step - loss: 0.2097 - accuracy: 0.9132 - val_loss: 0.4699 - val_accuracy: 0.8126\n",
            "Epoch 8/20\n",
            "208/208 [==============================] - 78s 374ms/step - loss: 0.1703 - accuracy: 0.9322 - val_loss: 0.5411 - val_accuracy: 0.8096\n",
            "Epoch 9/20\n",
            "208/208 [==============================] - 81s 388ms/step - loss: 0.1157 - accuracy: 0.9556 - val_loss: 0.5925 - val_accuracy: 0.8064\n",
            "Epoch 10/20\n",
            "208/208 [==============================] - 82s 394ms/step - loss: 0.0830 - accuracy: 0.9697 - val_loss: 0.6479 - val_accuracy: 0.8197\n",
            "Epoch 11/20\n",
            "208/208 [==============================] - 76s 368ms/step - loss: 0.0516 - accuracy: 0.9823 - val_loss: 0.7514 - val_accuracy: 0.8079\n",
            "Epoch 12/20\n",
            "208/208 [==============================] - 77s 371ms/step - loss: 0.0341 - accuracy: 0.9896 - val_loss: 0.8271 - val_accuracy: 0.8188\n",
            "Epoch 13/20\n",
            "208/208 [==============================] - 82s 393ms/step - loss: 0.0295 - accuracy: 0.9916 - val_loss: 0.9695 - val_accuracy: 0.8165\n",
            "Epoch 14/20\n",
            "208/208 [==============================] - 76s 365ms/step - loss: 0.0483 - accuracy: 0.9822 - val_loss: 0.9936 - val_accuracy: 0.7934\n",
            "Epoch 15/20\n",
            "208/208 [==============================] - 83s 397ms/step - loss: 0.0790 - accuracy: 0.9700 - val_loss: 0.8830 - val_accuracy: 0.8030\n",
            "Epoch 16/20\n",
            "208/208 [==============================] - 77s 370ms/step - loss: 0.0274 - accuracy: 0.9904 - val_loss: 0.9729 - val_accuracy: 0.8179\n",
            "Epoch 17/20\n",
            "208/208 [==============================] - 82s 393ms/step - loss: 0.0150 - accuracy: 0.9954 - val_loss: 1.1241 - val_accuracy: 0.8073\n",
            "Epoch 18/20\n",
            "208/208 [==============================] - 81s 391ms/step - loss: 0.0094 - accuracy: 0.9984 - val_loss: 1.1033 - val_accuracy: 0.8141\n",
            "Epoch 19/20\n",
            "208/208 [==============================] - 82s 395ms/step - loss: 0.0071 - accuracy: 0.9990 - val_loss: 1.1933 - val_accuracy: 0.8165\n",
            "Epoch 20/20\n",
            "208/208 [==============================] - 84s 403ms/step - loss: 0.0042 - accuracy: 0.9998 - val_loss: 1.1833 - val_accuracy: 0.8173\n"
          ]
        }
      ]
    },
    {
      "cell_type": "code",
      "source": [
        "test_loss, test_acc = model2.evaluate(test_gen)\n",
        "print(\"Test Loss: \"+str(test_loss))\n",
        "print(\"Test Accuracy: \"+str(test_acc))"
      ],
      "metadata": {
        "colab": {
          "base_uri": "https://localhost:8080/"
        },
        "id": "Vjw2kwVfYYPq",
        "outputId": "d2fc86c3-709b-4207-99d4-ebe5bf6d6ff6"
      },
      "execution_count": 21,
      "outputs": [
        {
          "output_type": "stream",
          "name": "stdout",
          "text": [
            "53/53 [==============================] - 16s 298ms/step - loss: 1.1829 - accuracy: 0.8174\n",
            "Test Loss: 1.182927131652832\n",
            "Test Accuracy: 0.817385733127594\n"
          ]
        }
      ]
    },
    {
      "cell_type": "code",
      "source": [
        "def plot_loss_curves(fit2):\n",
        "    \n",
        "   \n",
        "    train_loss=fit2.history['loss']\n",
        "    val_loss=fit2.history['val_loss']\n",
        "\n",
        "    train_accuracy=fit2.history['accuracy']\n",
        "    val_accuracy=fit2.history['val_accuracy']\n",
        "\n",
        "    epochs=range(1,len(fit2.history['loss'])+1)        # 0 , ... + 5 olarak degisebilir epochs 50 civari olsa\n",
        "    plt.figure(figsize=(20,7))\n",
        "\n",
        "     # plot accuracy data\n",
        "    plt.subplot(1,2,2)\n",
        "    plt.plot(epochs,train_accuracy,label=\"training_acc\", color='red')\n",
        "    plt.plot(epochs,val_accuracy,label=\"validation_acc\", color='green')\n",
        "    plt.title(\"MODEL_2 Accuracy curves\")\n",
        "    plt.xlabel('epochs')\n",
        "    plt.ylabel('Accuracy')\n",
        "    plt.legend()\n",
        "\n",
        "  # plot loss data\n",
        "    plt.subplot(1,2,1)\n",
        "    plt.plot(epochs,train_loss,label=\"training_loss\", color='red' )\n",
        "    plt.plot(epochs,val_loss,label=\"validation_loss\", color='green')\n",
        "    plt.title(\"MODEL_2 Loss curves\")\n",
        "    plt.xlabel('epochs')\n",
        "    plt.ylabel('loss')\n",
        "    plt.legend()"
      ],
      "metadata": {
        "id": "QVxpsYFqVdlj"
      },
      "execution_count": 22,
      "outputs": []
    },
    {
      "cell_type": "code",
      "source": [
        "plot_loss_curves(fit2)"
      ],
      "metadata": {
        "colab": {
          "base_uri": "https://localhost:8080/",
          "height": 524
        },
        "id": "m2TaKyw6VfIJ",
        "outputId": "1142a7f3-553f-4021-e25a-414a1d2fdb2a"
      },
      "execution_count": 23,
      "outputs": [
        {
          "output_type": "display_data",
          "data": {
            "text/plain": [
              "<Figure size 2000x700 with 2 Axes>"
            ],
            "image/png": "[encoded data removed]"
          },
          "metadata": {}
        }
      ]
    },
    {
      "cell_type": "code",
      "source": [],
      "metadata": {
        "id": "WdOHJ6GpVfK5"
      },
      "execution_count": 23,
      "outputs": []
    },
    {
      "cell_type": "code",
      "source": [],
      "metadata": {
        "id": "PXeAUcz6VfOc"
      },
      "execution_count": 23,
      "outputs": []
    },
    {
      "cell_type": "code",
      "source": [],
      "metadata": {
        "id": "haEJlicEVfRo"
      },
      "execution_count": 23,
      "outputs": []
    },
    {
      "cell_type": "code",
      "source": [],
      "metadata": {
        "id": "zjvII1cDVfUa"
      },
      "execution_count": 23,
      "outputs": []
    },
    {
      "cell_type": "code",
      "source": [],
      "metadata": {
        "id": "TqqpUjvmVfXF"
      },
      "execution_count": 23,
      "outputs": []
    },
    {
      "cell_type": "code",
      "source": [],
      "metadata": {
        "id": "rW5smHxRVfac"
      },
      "execution_count": 23,
      "outputs": []
    },
    {
      "cell_type": "code",
      "source": [],
      "metadata": {
        "id": "zl7VTuwxDwqJ"
      },
      "execution_count": 23,
      "outputs": []
    },
    {
      "cell_type": "code",
      "source": [],
      "metadata": {
        "id": "vn8n4rRlDwtN"
      },
      "execution_count": 23,
      "outputs": []
    },
    {
      "cell_type": "code",
      "source": [],
      "metadata": {
        "id": "E7Zq_0wPDwwS"
      },
      "execution_count": 23,
      "outputs": []
    },
    {
      "cell_type": "code",
      "source": [],
      "metadata": {
        "id": "Ah4M_Im1DwzD"
      },
      "execution_count": 23,
      "outputs": []
    },
    {
      "cell_type": "code",
      "source": [],
      "metadata": {
        "id": "wR33xxwcDw1x"
      },
      "execution_count": 23,
      "outputs": []
    },
    {
      "cell_type": "code",
      "source": [],
      "metadata": {
        "id": "4mBu9PndDw4Z"
      },
      "execution_count": 23,
      "outputs": []
    },
    {
      "cell_type": "code",
      "source": [],
      "metadata": {
        "id": "oZxGmO2eDw60"
      },
      "execution_count": 23,
      "outputs": []
    },
    {
      "cell_type": "code",
      "source": [],
      "metadata": {
        "id": "a_z0UfupkU8Z"
      },
      "execution_count": 23,
      "outputs": []
    },
    {
      "cell_type": "code",
      "source": [],
      "metadata": {
        "id": "eclIyShukU--"
      },
      "execution_count": 23,
      "outputs": []
    }
  ],
  "metadata": {
    "colab": {
      "provenance": [],
      "include_colab_link": true
    },
    "kernelspec": {
      "display_name": "Python 3",
      "name": "python3"
    },
    "language_info": {
      "name": "python"
    },
    "accelerator": "GPU",
    "gpuClass": "standard"
  },
  "nbformat": 4,
  "nbformat_minor": 0
}