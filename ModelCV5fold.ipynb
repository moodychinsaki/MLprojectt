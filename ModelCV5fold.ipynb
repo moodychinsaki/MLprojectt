{
  "cells": [
    {
      "cell_type": "markdown",
      "metadata": {
        "id": "view-in-github",
        "colab_type": "text"
      },
      "source": [
        "<a href=\"https://colab.research.google.com/github/moodychinsaki/MLprojectt/blob/main/ModelCV5fold.ipynb\" target=\"_parent\"><img src=\"https://colab.research.google.com/assets/colab-badge.svg\" alt=\"Open In Colab\"/></a>"
      ]
    },
    {
      "cell_type": "markdown",
      "metadata": {
        "id": "-x5nnf-RCGCV"
      },
      "source": [
        "ModelCV-5fold"
      ]
    },
    {
      "cell_type": "code",
      "execution_count": 1,
      "metadata": {
        "id": "-I2M3_GeBlPu"
      },
      "outputs": [],
      "source": [
        "import os\n",
        "from os import listdir, makedirs\n",
        "from os.path import isfile, join\n",
        "import pandas as pd\n",
        "from PIL import Image\n",
        "import glob\n",
        "from pathlib import Path\n",
        "import shutil\n",
        "import tensorflow as tf\n",
        "from tensorflow import keras\n",
        "from tensorflow.keras import layers\n",
        "from tensorflow.keras.preprocessing.image import ImageDataGenerator\n",
        "from sklearn.model_selection import KFold, StratifiedKFold\n",
        "from tensorflow.keras.optimizers import SGD, RMSprop\n",
        "import cv2\n",
        "from os.path import isfile,join, exists\n",
        "import zipfile\n",
        "from sklearn.model_selection import train_test_split\n",
        "import matplotlib.pyplot as plt\n",
        "import pickle\n",
        "import statistics as st\n",
        "from keras.models import Sequential\n",
        "from keras.layers import Conv2D\n",
        "from keras.layers import Activation\n",
        "from keras.layers import MaxPooling2D\n",
        "from keras.layers import Flatten\n",
        "from keras.layers import Dense\n",
        "import gc\n",
        "from sklearn.model_selection import KFold, train_test_split\n",
        "import pickle\n",
        "\n",
        "\n",
        "\n"
      ]
    },
    {
      "cell_type": "code",
      "source": [
        "pip uninstall keras-preprocessing -y"
      ],
      "metadata": {
        "colab": {
          "base_uri": "https://localhost:8080/"
        },
        "id": "Xm1fYuboO5iH",
        "outputId": "9b0cb974-9f2b-4d89-e2f9-6d6dc353c2d5"
      },
      "execution_count": 2,
      "outputs": [
        {
          "output_type": "stream",
          "name": "stdout",
          "text": [
            "Found existing installation: Keras-Preprocessing 1.1.2\n",
            "Uninstalling Keras-Preprocessing-1.1.2:\n",
            "  Successfully uninstalled Keras-Preprocessing-1.1.2\n"
          ]
        }
      ]
    },
    {
      "cell_type": "code",
      "source": [
        "pip install -q -U git+https://github.com/keras-team/keras-preprocessing.git"
      ],
      "metadata": {
        "colab": {
          "base_uri": "https://localhost:8080/"
        },
        "id": "QPUFERyuPDV7",
        "outputId": "64079e14-cab4-4f94-b1f6-bceb73f2343a"
      },
      "execution_count": 3,
      "outputs": [
        {
          "output_type": "stream",
          "name": "stdout",
          "text": [
            "  Preparing metadata (setup.py) ... \u001b[?25l\u001b[?25hdone\n",
            "  Building wheel for Keras-Preprocessing (setup.py) ... \u001b[?25l\u001b[?25hdone\n"
          ]
        }
      ]
    },
    {
      "cell_type": "code",
      "execution_count": 4,
      "metadata": {
        "id": "aSsY-2nBLi7k"
      },
      "outputs": [],
      "source": [
        "pip install -q -U keras-tuner"
      ]
    },
    {
      "cell_type": "code",
      "execution_count": 5,
      "metadata": {
        "id": "rqoqmNK1LYnH"
      },
      "outputs": [],
      "source": [
        "import keras_tuner as kt"
      ]
    },
    {
      "cell_type": "markdown",
      "metadata": {
        "id": "WgYMokOPYoY7"
      },
      "source": [
        "## Get the data from cloud"
      ]
    },
    {
      "cell_type": "code",
      "execution_count": 6,
      "metadata": {
        "id": "m1VD1HkYXelG",
        "colab": {
          "base_uri": "https://localhost:8080/"
        },
        "outputId": "82f7bc3c-9988-478e-c03b-79d7f373d908"
      },
      "outputs": [
        {
          "output_type": "stream",
          "name": "stdout",
          "text": [
            "Drive already mounted at /content/drive; to attempt to forcibly remount, call drive.mount(\"/content/drive\", force_remount=True).\n"
          ]
        }
      ],
      "source": [
        "from google.colab import drive\n",
        "drive.mount('/content/drive')"
      ]
    },
    {
      "cell_type": "code",
      "execution_count": 7,
      "metadata": {
        "id": "V6QvkZFwXe6j"
      },
      "outputs": [],
      "source": [
        "zip_ref = zipfile.ZipFile('/content/drive/MyDrive/CatsDogs.zip', 'r') # Open the zip file containing all the images\n",
        "zip_ref.extractall('/tmp') # Extract the file in /tmp folder\n",
        "zip_ref.close()"
      ]
    },
    {
      "cell_type": "markdown",
      "metadata": {
        "id": "ZOgqsnvqkMjj"
      },
      "source": [
        "## Removing corrupted images"
      ]
    },
    {
      "cell_type": "code",
      "execution_count": 8,
      "metadata": {
        "id": "o8WZCFi0CAS3"
      },
      "outputs": [],
      "source": [
        "# Assignment of paths\n",
        "cat_path = glob.glob(\"./../tmp/CatsDogs/Cats/*.jpg\")\n",
        "dog_path = glob.glob(\"./../tmp/CatsDogs/Dogs/*.jpg\")\n",
        "paths = list([cat_path, dog_path])"
      ]
    },
    {
      "cell_type": "code",
      "source": [
        "#  generic code for removing corrupted images\n",
        "num_skipped = 0\n",
        "total = 0\n",
        "for path in paths:\n",
        "  for filename in path:\n",
        "    if os.path.exists(filename):\n",
        "      try:\n",
        "        total += 1\n",
        "        with open(filename, \"rb\") as fobj:\n",
        "          is_jfif = tf.compat.as_bytes(\"JFIF\") in fobj.peek(10)\n",
        "      except IOError:\n",
        "        pass\n",
        "      if not is_jfif:\n",
        "        num_skipped += 1\n",
        "        # Deleting corrupted image\n",
        "        os.remove(filename)\n",
        " \n",
        "\n"
      ],
      "metadata": {
        "id": "Vi7B7Hr59frl"
      },
      "execution_count": 9,
      "outputs": []
    },
    {
      "cell_type": "markdown",
      "source": [
        "**Concatanete data frames **\n",
        "not stratifying this time"
      ],
      "metadata": {
        "id": "cjJBBoBKEOdE"
      }
    },
    {
      "cell_type": "code",
      "source": [
        "df_cat = pd.DataFrame({\"img_name\": [f\"/tmp/CatsDogs/Cats/{i}\" for i in os.listdir('/tmp/CatsDogs/Cats')]})\n",
        "df_cat[\"label\"] = \"cat\"\n",
        "df_dog = pd.DataFrame({\"img_name\": [f\"/tmp/CatsDogs/Dogs/{i}\" for i in os.listdir('/tmp/CatsDogs/Dogs')]})\n",
        "df_dog[\"label\"] = \"dog\"\n",
        "mixedF = pd.concat([df_cat, df_dog], ignore_index=True)\n",
        "mixedF = mixedF.sample(frac=1, random_state = 789).reset_index(drop=True) # shuffles and drops old index, shuffle is reproducable"
      ],
      "metadata": {
        "id": "6YwlRvLkDwOj"
      },
      "execution_count": 10,
      "outputs": []
    },
    {
      "cell_type": "code",
      "source": [
        "# Splits as training set and test set\n",
        "trainPlusval_df, test_df = train_test_split(mixedF, test_size=0.2, random_state = 789)\n",
        "     \n",
        "\n",
        "# Splits training set into training and validation set (15% validation)\n",
        "train_df, val_df = train_test_split(trainPlusval_df, test_size=0.15, random_state = 789)"
      ],
      "metadata": {
        "id": "J1bfcoelDwZb"
      },
      "execution_count": 11,
      "outputs": []
    },
    {
      "cell_type": "code",
      "source": [],
      "metadata": {
        "id": "WJqylYJ3Fs9Q"
      },
      "execution_count": 11,
      "outputs": []
    },
    {
      "cell_type": "code",
      "source": [],
      "metadata": {
        "id": "2QQmmEVwQY26"
      },
      "execution_count": 11,
      "outputs": []
    },
    {
      "cell_type": "markdown",
      "source": [
        "Data generators to prevent ram crashes on **Colab** free plan"
      ],
      "metadata": {
        "id": "cB_gqjLxFuEI"
      }
    },
    {
      "cell_type": "code",
      "source": [
        "image_size = (160,160,3) # increased to 160x160 for model2hypt"
      ],
      "metadata": {
        "id": "JzKvhPe2QZ40"
      },
      "execution_count": 12,
      "outputs": []
    },
    {
      "cell_type": "code",
      "source": [
        "# Data Generators for normalising images\n",
        "imag_gen = ImageDataGenerator(rescale=1/255) "
      ],
      "metadata": {
        "id": "4ehTWxWqDwcf"
      },
      "execution_count": 13,
      "outputs": []
    },
    {
      "cell_type": "code",
      "source": [
        "# flow_from_dataframe method of ImageDataGenerator creates data generators for training, validation, and testing\n",
        "trainPlusvalid_gen = imag_gen.flow_from_dataframe(dataframe=trainPlusval_df, \n",
        "                                                            directory=None, x_col=\"img_name\",\n",
        "                                                            y_col=\"label\",\n",
        "                                                            batch_size=90, seed=789, #batch size 90 for model2hypt\n",
        "                                                            shuffle=True, class_mode=\"binary\", \n",
        "                                                            target_size=image_size[0:2]) # img size decreased to 160x160\n",
        "\n",
        "test_gen = imag_gen.flow_from_dataframe(dataframe = test_df, directory=None,\n",
        "                                                          x_col=\"img_name\", y_col=\"label\",\n",
        "                                                          batch_size=90, \n",
        "                                                          seed=789, shuffle=True, class_mode=\"binary\",\n",
        "                                                          target_size=image_size[0:2])\n",
        "\n",
        "train_gen = imag_gen.flow_from_dataframe(dataframe=train_df, \n",
        "                                                            directory=None, x_col=\"img_name\",\n",
        "                                                            y_col=\"label\",\n",
        "                                                            batch_size=90, seed=789,\n",
        "                                                            shuffle=True, class_mode=\"binary\", \n",
        "                                                            target_size=image_size[0:2])\n",
        "\n",
        "valid_gen = imag_gen.flow_from_dataframe(dataframe= val_df, \n",
        "                                                            directory=None, x_col=\"img_name\",\n",
        "                                                            y_col=\"label\",\n",
        "                                                            batch_size=90, seed=789,\n",
        "                                                            shuffle=True, class_mode=\"binary\", # 0 or 1 labels cats or dog\n",
        "                                                            target_size=image_size[0:2])"
      ],
      "metadata": {
        "colab": {
          "base_uri": "https://localhost:8080/"
        },
        "id": "N_h4WggoDwfk",
        "outputId": "e01085ca-c68c-427c-b72a-70e445d991c2"
      },
      "execution_count": 14,
      "outputs": [
        {
          "output_type": "stream",
          "name": "stdout",
          "text": [
            "Found 18728 validated image filenames belonging to 2 classes.\n",
            "Found 4682 validated image filenames belonging to 2 classes.\n",
            "Found 15918 validated image filenames belonging to 2 classes.\n",
            "Found 2810 validated image filenames belonging to 2 classes.\n"
          ]
        }
      ]
    },
    {
      "cell_type": "markdown",
      "source": [
        "Model CV (5-fold) "
      ],
      "metadata": {
        "id": "V8GyjYjWMlSA"
      }
    },
    {
      "cell_type": "code",
      "source": [
        "import scipy as scipy\n",
        "from multiprocessing import Queue\n",
        "import sklearn\n",
        "import pandas as pd\n",
        "import numpy as np\n",
        "import datetime\n",
        "from PIL import Image # to open images\n",
        "import os\n",
        "import tensorflow as tf\n",
        "from tensorflow import keras\n",
        "from keras.preprocessing.image import ImageDataGenerator\n",
        "from tensorflow.keras.models import Sequential\n",
        "from tensorflow.keras.layers import Dense, Dropout, Activation, Flatten, BatchNormalization\n",
        "from tensorflow.keras.layers import Conv2D, MaxPooling2D, AveragePooling2D\n",
        "from tensorflow.keras.callbacks import EarlyStopping, ModelCheckpoint\n",
        "import matplotlib.pyplot as plt\n",
        "import shutil\n"
      ],
      "metadata": {
        "id": "1B7gtb15JzEO"
      },
      "execution_count": 15,
      "outputs": []
    },
    {
      "cell_type": "code",
      "source": [
        "from tensorflow.keras.layers.experimental.preprocessing import RandomFlip\n",
        "from tensorflow.keras.layers.experimental.preprocessing import RandomRotation\n",
        "from tensorflow.keras.layers.experimental.preprocessing import RandomZoom\n",
        "from tensorflow.keras.layers import Dropout\n",
        "modelCV = Sequential(name=\"MODEL_CV\")\n",
        "#Data Augmentation\n",
        "modelCV.add(RandomFlip('horizontal'))\n",
        "modelCV.add(RandomRotation(0.15))\n",
        "modelCV.add(RandomZoom(0.15))\n",
        "# add padding to the first Conv2D layer\n",
        "modelCV.add(Conv2D(32, (3, 3), strides=(2, 2) ,input_shape=image_size, padding='valid'))  \n",
        "modelCV.add(Activation('relu'))\n",
        "modelCV.add(MaxPooling2D(pool_size=(2, 2))) \n",
        "\n",
        "modelCV.add(Conv2D(128, (3, 3), strides=(2, 2), padding='valid' ))\n",
        "modelCV.add(Activation('relu'))\n",
        "modelCV.add(MaxPooling2D(pool_size=(2, 2)))\n",
        "# added hidden layer model2hypt\n",
        "modelCV.add(Conv2D(256, (3, 3), strides=(2, 2), padding='valid'))\n",
        "modelCV.add(Activation('relu'))\n",
        "modelCV.add(MaxPooling2D(pool_size=(2, 2)))\n",
        "#Dropout\n",
        "modelCV.add(Dropout(0.25))\n",
        "\n",
        "modelCV.add(Flatten())  \n",
        "modelCV.add(Dense(32))\n",
        "#Dropout\n",
        "modelCV.add(Dropout(0.30))\n",
        "\n",
        "modelCV.add(Dense(1))\n",
        "modelCV.add(Activation('sigmoid'))\n",
        "\n"
      ],
      "metadata": {
        "id": "Qlg4WFTKDwlI"
      },
      "execution_count": 17,
      "outputs": []
    },
    {
      "cell_type": "code",
      "source": [
        "model_cv=modelCV"
      ],
      "metadata": {
        "id": "Zs-TqwLZRaGL"
      },
      "execution_count": 18,
      "outputs": []
    },
    {
      "cell_type": "code",
      "source": [
        "model_cv_checkpoint = ModelCheckpoint(\"Model_CV\", monitor=\"val_accuracy\", verbose=1, save_best_only=True, mode=\"max\")\n"
      ],
      "metadata": {
        "id": "76MDjFuHWLG7"
      },
      "execution_count": 19,
      "outputs": []
    },
    {
      "cell_type": "code",
      "source": [
        "kf = KFold(n_splits = 5, shuffle = True, random_state = 789)\n",
        "kfVal = KFold(n_splits = 5, shuffle = True, random_state = 789)\n",
        "\n",
        "# loop for 5fold cv with 20 epochs per fold\n",
        "for val_train_index, test_index in kf.split(mixedF):\n",
        "    # Splitted before as training set and test set --- trainPlusval and test set\n",
        "    val_train, df_test = mixedF.iloc[val_train_index], mixedF.iloc[test_index]\n",
        "    \n",
        "    train, validation = next(kfVal.split(val_train))\n",
        "    \n",
        "    # Splitted before training set into training and validation set (15% validation)\n",
        "    df_train, df_validation = val_train.iloc[train], val_train.iloc[validation]\n",
        "   \n",
        "\n",
        "    # GENERATORS\n",
        "    train_data_generator = imag_gen.flow_from_dataframe(df_train, \n",
        "                                                   directory = None,\n",
        "                                                   x_col = \"img_name\", \n",
        "                                                   y_col = \"label\",\n",
        "                                                   class_mode = \"binary\", \n",
        "                                                   shuffle = True,\n",
        "                                                   seed = 789,\n",
        "                                                   target_size=image_size[0:2], \n",
        "                                                   batch_size = 90),\n",
        "    \n",
        "    valid_data_generator  = imag_gen.flow_from_dataframe(df_validation, \n",
        "                                                    directory = None, \n",
        "                                                    x_col = \"img_name\",\n",
        "                                                    y_col = \"label\",\n",
        "                                                    class_mode = \"binary\", \n",
        "                                                    shuffle = True,\n",
        "                                                    seed = 789,\n",
        "                                                    target_size=image_size[0:2], # img size decreased to 160x160\n",
        "                                                    batch_size = 90),\n",
        "    \n",
        "    test_data_generator = imag_gen.flow_from_dataframe(df_test, \n",
        "                                                  directory = None, \n",
        "                                                  seed = 789,\n",
        "                                                  x_col = \"img_name\",\n",
        "                                                  y_col = \"label\",\n",
        "                                                  class_mode = \"binary\", \n",
        "                                                  shuffle = True, \n",
        "                                                  target_size=image_size[0:2], # img size decreased to 160x160)\n",
        "                                                  batch_size = 90),\n",
        "      # Compile the model\n",
        "    model_cv.compile(loss='binary_crossentropy',\n",
        "                   optimizer=\"adam\",\n",
        "                    metrics=['accuracy'])\n",
        "                                            \n",
        "      #  FIT the modelCV\n",
        "    fitCV =  model_cv.fit(train_gen,\n",
        "                    validation_data = valid_gen,\n",
        "                    steps_per_epoch = train_gen.n//train_gen.batch_size,\n",
        "                    validation_steps = valid_gen.n//valid_gen.batch_size,\n",
        "                    epochs = 20,\n",
        "                    callbacks = [model_cv_checkpoint])"
      ],
      "metadata": {
        "id": "9Pex9HPnKZzx",
        "colab": {
          "base_uri": "https://localhost:8080/"
        },
        "outputId": "303345f3-f2ae-47bb-fa51-c4d361027188"
      },
      "execution_count": 20,
      "outputs": [
        {
          "output_type": "stream",
          "name": "stdout",
          "text": [
            "Found 14982 validated image filenames belonging to 2 classes.\n",
            "Found 3746 validated image filenames belonging to 2 classes.\n",
            "Found 4682 validated image filenames belonging to 2 classes.\n",
            "Epoch 1/20\n",
            "176/176 [==============================] - ETA: 0s - loss: 0.6717 - accuracy: 0.5693\n",
            "Epoch 1: val_accuracy improved from -inf to 0.65305, saving model to Model_CV\n"
          ]
        },
        {
          "output_type": "stream",
          "name": "stderr",
          "text": [
            "WARNING:absl:Found untraced functions such as _jit_compiled_convolution_op, _jit_compiled_convolution_op, _jit_compiled_convolution_op while saving (showing 3 of 3). These functions will not be directly callable after loading.\n"
          ]
        },
        {
          "output_type": "stream",
          "name": "stdout",
          "text": [
            "\b\b\b\b\b\b\b\b\b\b\b\b\b\b\b\b\b\b\b\b\b\b\b\b\b\b\b\b\b\b\b\b\b\b\b\b\b\b\b\b\b\b\b\b\b\b\b\b\b\b\b\b\b\b\b\b\b\b\b\b\b\b\b\b\b\b\b\b\b\b\b\b\b\b\b\b\b\b\b\b\b\b\b\b\r176/176 [==============================] - 86s 467ms/step - loss: 0.6717 - accuracy: 0.5693 - val_loss: 0.6157 - val_accuracy: 0.6530\n",
            "Epoch 2/20\n",
            "176/176 [==============================] - ETA: 0s - loss: 0.6122 - accuracy: 0.6652\n",
            "Epoch 2: val_accuracy improved from 0.65305 to 0.72043, saving model to Model_CV\n"
          ]
        },
        {
          "output_type": "stream",
          "name": "stderr",
          "text": [
            "WARNING:absl:Found untraced functions such as _jit_compiled_convolution_op, _jit_compiled_convolution_op, _jit_compiled_convolution_op while saving (showing 3 of 3). These functions will not be directly callable after loading.\n"
          ]
        },
        {
          "output_type": "stream",
          "name": "stdout",
          "text": [
            "\b\b\b\b\b\b\b\b\b\b\b\b\b\b\b\b\b\b\b\b\b\b\b\b\b\b\b\b\b\b\b\b\b\b\b\b\b\b\b\b\b\b\b\b\b\b\b\b\b\b\b\b\b\b\b\b\b\b\b\b\b\b\b\b\b\b\b\b\b\b\b\b\b\b\b\b\b\b\b\b\b\b\b\b\r176/176 [==============================] - 70s 399ms/step - loss: 0.6122 - accuracy: 0.6652 - val_loss: 0.5600 - val_accuracy: 0.7204\n",
            "Epoch 3/20\n",
            "176/176 [==============================] - ETA: 0s - loss: 0.5645 - accuracy: 0.7122\n",
            "Epoch 3: val_accuracy did not improve from 0.72043\n",
            "176/176 [==============================] - 63s 357ms/step - loss: 0.5645 - accuracy: 0.7122 - val_loss: 0.5792 - val_accuracy: 0.6832\n",
            "Epoch 4/20\n",
            "176/176 [==============================] - ETA: 0s - loss: 0.5524 - accuracy: 0.7164\n",
            "Epoch 4: val_accuracy did not improve from 0.72043\n",
            "176/176 [==============================] - 62s 354ms/step - loss: 0.5524 - accuracy: 0.7164 - val_loss: 0.6111 - val_accuracy: 0.6835\n",
            "Epoch 5/20\n",
            "176/176 [==============================] - ETA: 0s - loss: 0.5227 - accuracy: 0.7427\n",
            "Epoch 5: val_accuracy improved from 0.72043 to 0.73692, saving model to Model_CV\n"
          ]
        },
        {
          "output_type": "stream",
          "name": "stderr",
          "text": [
            "WARNING:absl:Found untraced functions such as _jit_compiled_convolution_op, _jit_compiled_convolution_op, _jit_compiled_convolution_op while saving (showing 3 of 3). These functions will not be directly callable after loading.\n"
          ]
        },
        {
          "output_type": "stream",
          "name": "stdout",
          "text": [
            "\b\b\b\b\b\b\b\b\b\b\b\b\b\b\b\b\b\b\b\b\b\b\b\b\b\b\b\b\b\b\b\b\b\b\b\b\b\b\b\b\b\b\b\b\b\b\b\b\b\b\b\b\b\b\b\b\b\b\b\b\b\b\b\b\b\b\b\b\b\b\b\b\b\b\b\b\b\b\b\b\b\b\b\b\r176/176 [==============================] - 65s 371ms/step - loss: 0.5227 - accuracy: 0.7427 - val_loss: 0.5209 - val_accuracy: 0.7369\n",
            "Epoch 6/20\n",
            "176/176 [==============================] - ETA: 0s - loss: 0.5109 - accuracy: 0.7563\n",
            "Epoch 6: val_accuracy improved from 0.73692 to 0.75986, saving model to Model_CV\n"
          ]
        },
        {
          "output_type": "stream",
          "name": "stderr",
          "text": [
            "WARNING:absl:Found untraced functions such as _jit_compiled_convolution_op, _jit_compiled_convolution_op, _jit_compiled_convolution_op while saving (showing 3 of 3). These functions will not be directly callable after loading.\n"
          ]
        },
        {
          "output_type": "stream",
          "name": "stdout",
          "text": [
            "\b\b\b\b\b\b\b\b\b\b\b\b\b\b\b\b\b\b\b\b\b\b\b\b\b\b\b\b\b\b\b\b\b\b\b\b\b\b\b\b\b\b\b\b\b\b\b\b\b\b\b\b\b\b\b\b\b\b\b\b\b\b\b\b\b\b\b\b\b\b\b\b\b\b\b\b\b\b\b\b\b\b\b\b\r176/176 [==============================] - 65s 367ms/step - loss: 0.5109 - accuracy: 0.7563 - val_loss: 0.4878 - val_accuracy: 0.7599\n",
            "Epoch 7/20\n",
            "176/176 [==============================] - ETA: 0s - loss: 0.4947 - accuracy: 0.7599\n",
            "Epoch 7: val_accuracy improved from 0.75986 to 0.77670, saving model to Model_CV\n"
          ]
        },
        {
          "output_type": "stream",
          "name": "stderr",
          "text": [
            "WARNING:absl:Found untraced functions such as _jit_compiled_convolution_op, _jit_compiled_convolution_op, _jit_compiled_convolution_op while saving (showing 3 of 3). These functions will not be directly callable after loading.\n"
          ]
        },
        {
          "output_type": "stream",
          "name": "stdout",
          "text": [
            "\b\b\b\b\b\b\b\b\b\b\b\b\b\b\b\b\b\b\b\b\b\b\b\b\b\b\b\b\b\b\b\b\b\b\b\b\b\b\b\b\b\b\b\b\b\b\b\b\b\b\b\b\b\b\b\b\b\b\b\b\b\b\b\b\b\b\b\b\b\b\b\b\b\b\b\b\b\b\b\b\b\b\b\b\r176/176 [==============================] - 66s 373ms/step - loss: 0.4947 - accuracy: 0.7599 - val_loss: 0.4751 - val_accuracy: 0.7767\n",
            "Epoch 8/20\n",
            "176/176 [==============================] - ETA: 0s - loss: 0.4872 - accuracy: 0.7628\n",
            "Epoch 8: val_accuracy improved from 0.77670 to 0.78961, saving model to Model_CV\n"
          ]
        },
        {
          "output_type": "stream",
          "name": "stderr",
          "text": [
            "WARNING:absl:Found untraced functions such as _jit_compiled_convolution_op, _jit_compiled_convolution_op, _jit_compiled_convolution_op while saving (showing 3 of 3). These functions will not be directly callable after loading.\n"
          ]
        },
        {
          "output_type": "stream",
          "name": "stdout",
          "text": [
            "\b\b\b\b\b\b\b\b\b\b\b\b\b\b\b\b\b\b\b\b\b\b\b\b\b\b\b\b\b\b\b\b\b\b\b\b\b\b\b\b\b\b\b\b\b\b\b\b\b\b\b\b\b\b\b\b\b\b\b\b\b\b\b\b\b\b\b\b\b\b\b\b\b\b\b\b\b\b\b\b\b\b\b\b\r176/176 [==============================] - 65s 371ms/step - loss: 0.4872 - accuracy: 0.7628 - val_loss: 0.4416 - val_accuracy: 0.7896\n",
            "Epoch 9/20\n",
            "176/176 [==============================] - ETA: 0s - loss: 0.4685 - accuracy: 0.7775\n",
            "Epoch 9: val_accuracy improved from 0.78961 to 0.80358, saving model to Model_CV\n"
          ]
        },
        {
          "output_type": "stream",
          "name": "stderr",
          "text": [
            "WARNING:absl:Found untraced functions such as _jit_compiled_convolution_op, _jit_compiled_convolution_op, _jit_compiled_convolution_op while saving (showing 3 of 3). These functions will not be directly callable after loading.\n"
          ]
        },
        {
          "output_type": "stream",
          "name": "stdout",
          "text": [
            "\b\b\b\b\b\b\b\b\b\b\b\b\b\b\b\b\b\b\b\b\b\b\b\b\b\b\b\b\b\b\b\b\b\b\b\b\b\b\b\b\b\b\b\b\b\b\b\b\b\b\b\b\b\b\b\b\b\b\b\b\b\b\b\b\b\b\b\b\b\b\b\b\b\b\b\b\b\b\b\b\b\b\b\b\r176/176 [==============================] - 65s 367ms/step - loss: 0.4685 - accuracy: 0.7775 - val_loss: 0.4272 - val_accuracy: 0.8036\n",
            "Epoch 10/20\n",
            "176/176 [==============================] - ETA: 0s - loss: 0.4599 - accuracy: 0.7834\n",
            "Epoch 10: val_accuracy did not improve from 0.80358\n",
            "176/176 [==============================] - 61s 346ms/step - loss: 0.4599 - accuracy: 0.7834 - val_loss: 0.4268 - val_accuracy: 0.8011\n",
            "Epoch 11/20\n",
            "176/176 [==============================] - ETA: 0s - loss: 0.4495 - accuracy: 0.7898\n",
            "Epoch 11: val_accuracy improved from 0.80358 to 0.80896, saving model to Model_CV\n"
          ]
        },
        {
          "output_type": "stream",
          "name": "stderr",
          "text": [
            "WARNING:absl:Found untraced functions such as _jit_compiled_convolution_op, _jit_compiled_convolution_op, _jit_compiled_convolution_op while saving (showing 3 of 3). These functions will not be directly callable after loading.\n"
          ]
        },
        {
          "output_type": "stream",
          "name": "stdout",
          "text": [
            "\b\b\b\b\b\b\b\b\b\b\b\b\b\b\b\b\b\b\b\b\b\b\b\b\b\b\b\b\b\b\b\b\b\b\b\b\b\b\b\b\b\b\b\b\b\b\b\b\b\b\b\b\b\b\b\b\b\b\b\b\b\b\b\b\b\b\b\b\b\b\b\b\b\b\b\b\b\b\b\b\b\b\b\b\r176/176 [==============================] - 63s 357ms/step - loss: 0.4495 - accuracy: 0.7898 - val_loss: 0.4109 - val_accuracy: 0.8090\n",
            "Epoch 12/20\n",
            "176/176 [==============================] - ETA: 0s - loss: 0.4448 - accuracy: 0.7887\n",
            "Epoch 12: val_accuracy did not improve from 0.80896\n",
            "176/176 [==============================] - 61s 344ms/step - loss: 0.4448 - accuracy: 0.7887 - val_loss: 0.4252 - val_accuracy: 0.8000\n",
            "Epoch 13/20\n",
            "176/176 [==============================] - ETA: 0s - loss: 0.4415 - accuracy: 0.7947\n",
            "Epoch 13: val_accuracy did not improve from 0.80896\n",
            "176/176 [==============================] - 63s 359ms/step - loss: 0.4415 - accuracy: 0.7947 - val_loss: 0.4721 - val_accuracy: 0.7785\n",
            "Epoch 14/20\n",
            "176/176 [==============================] - ETA: 0s - loss: 0.4289 - accuracy: 0.8049\n",
            "Epoch 14: val_accuracy did not improve from 0.80896\n",
            "176/176 [==============================] - 63s 358ms/step - loss: 0.4289 - accuracy: 0.8049 - val_loss: 0.4124 - val_accuracy: 0.8090\n",
            "Epoch 15/20\n",
            "176/176 [==============================] - ETA: 0s - loss: 0.4165 - accuracy: 0.8103\n",
            "Epoch 15: val_accuracy improved from 0.80896 to 0.81326, saving model to Model_CV\n"
          ]
        },
        {
          "output_type": "stream",
          "name": "stderr",
          "text": [
            "WARNING:absl:Found untraced functions such as _jit_compiled_convolution_op, _jit_compiled_convolution_op, _jit_compiled_convolution_op while saving (showing 3 of 3). These functions will not be directly callable after loading.\n"
          ]
        },
        {
          "output_type": "stream",
          "name": "stdout",
          "text": [
            "\b\b\b\b\b\b\b\b\b\b\b\b\b\b\b\b\b\b\b\b\b\b\b\b\b\b\b\b\b\b\b\b\b\b\b\b\b\b\b\b\b\b\b\b\b\b\b\b\b\b\b\b\b\b\b\b\b\b\b\b\b\b\b\b\b\b\b\b\b\b\b\b\b\b\b\b\b\b\b\b\b\b\b\b\r176/176 [==============================] - 62s 355ms/step - loss: 0.4165 - accuracy: 0.8103 - val_loss: 0.4066 - val_accuracy: 0.8133\n",
            "Epoch 16/20\n",
            "176/176 [==============================] - ETA: 0s - loss: 0.4100 - accuracy: 0.8131\n",
            "Epoch 16: val_accuracy improved from 0.81326 to 0.82903, saving model to Model_CV\n"
          ]
        },
        {
          "output_type": "stream",
          "name": "stderr",
          "text": [
            "WARNING:absl:Found untraced functions such as _jit_compiled_convolution_op, _jit_compiled_convolution_op, _jit_compiled_convolution_op while saving (showing 3 of 3). These functions will not be directly callable after loading.\n"
          ]
        },
        {
          "output_type": "stream",
          "name": "stdout",
          "text": [
            "\b\b\b\b\b\b\b\b\b\b\b\b\b\b\b\b\b\b\b\b\b\b\b\b\b\b\b\b\b\b\b\b\b\b\b\b\b\b\b\b\b\b\b\b\b\b\b\b\b\b\b\b\b\b\b\b\b\b\b\b\b\b\b\b\b\b\b\b\b\b\b\b\b\b\b\b\b\b\b\b\b\b\b\b\r176/176 [==============================] - 64s 363ms/step - loss: 0.4100 - accuracy: 0.8131 - val_loss: 0.3786 - val_accuracy: 0.8290\n",
            "Epoch 17/20\n",
            "176/176 [==============================] - ETA: 0s - loss: 0.4055 - accuracy: 0.8195\n",
            "Epoch 17: val_accuracy did not improve from 0.82903\n",
            "176/176 [==============================] - 61s 347ms/step - loss: 0.4055 - accuracy: 0.8195 - val_loss: 0.3830 - val_accuracy: 0.8211\n",
            "Epoch 18/20\n",
            "176/176 [==============================] - ETA: 0s - loss: 0.4031 - accuracy: 0.8168\n",
            "Epoch 18: val_accuracy improved from 0.82903 to 0.83441, saving model to Model_CV\n"
          ]
        },
        {
          "output_type": "stream",
          "name": "stderr",
          "text": [
            "WARNING:absl:Found untraced functions such as _jit_compiled_convolution_op, _jit_compiled_convolution_op, _jit_compiled_convolution_op while saving (showing 3 of 3). These functions will not be directly callable after loading.\n"
          ]
        },
        {
          "output_type": "stream",
          "name": "stdout",
          "text": [
            "\b\b\b\b\b\b\b\b\b\b\b\b\b\b\b\b\b\b\b\b\b\b\b\b\b\b\b\b\b\b\b\b\b\b\b\b\b\b\b\b\b\b\b\b\b\b\b\b\b\b\b\b\b\b\b\b\b\b\b\b\b\b\b\b\b\b\b\b\b\b\b\b\b\b\b\b\b\b\b\b\b\b\b\b\r176/176 [==============================] - 65s 368ms/step - loss: 0.4031 - accuracy: 0.8168 - val_loss: 0.3683 - val_accuracy: 0.8344\n",
            "Epoch 19/20\n",
            "176/176 [==============================] - ETA: 0s - loss: 0.3855 - accuracy: 0.8276\n",
            "Epoch 19: val_accuracy did not improve from 0.83441\n",
            "176/176 [==============================] - 62s 354ms/step - loss: 0.3855 - accuracy: 0.8276 - val_loss: 0.3991 - val_accuracy: 0.8165\n",
            "Epoch 20/20\n",
            "176/176 [==============================] - ETA: 0s - loss: 0.3931 - accuracy: 0.8249\n",
            "Epoch 20: val_accuracy did not improve from 0.83441\n",
            "176/176 [==============================] - 61s 350ms/step - loss: 0.3931 - accuracy: 0.8249 - val_loss: 0.3916 - val_accuracy: 0.8186\n",
            "Found 14982 validated image filenames belonging to 2 classes.\n",
            "Found 3746 validated image filenames belonging to 2 classes.\n",
            "Found 4682 validated image filenames belonging to 2 classes.\n",
            "Epoch 1/20\n",
            "176/176 [==============================] - ETA: 0s - loss: 0.3740 - accuracy: 0.8305\n",
            "Epoch 1: val_accuracy improved from 0.83441 to 0.83799, saving model to Model_CV\n"
          ]
        },
        {
          "output_type": "stream",
          "name": "stderr",
          "text": [
            "WARNING:absl:Found untraced functions such as _jit_compiled_convolution_op, _jit_compiled_convolution_op, _jit_compiled_convolution_op while saving (showing 3 of 3). These functions will not be directly callable after loading.\n"
          ]
        },
        {
          "output_type": "stream",
          "name": "stdout",
          "text": [
            "\b\b\b\b\b\b\b\b\b\b\b\b\b\b\b\b\b\b\b\b\b\b\b\b\b\b\b\b\b\b\b\b\b\b\b\b\b\b\b\b\b\b\b\b\b\b\b\b\b\b\b\b\b\b\b\b\b\b\b\b\b\b\b\b\b\b\b\b\b\b\b\b\b\b\b\b\b\b\b\b\b\b\b\b\r176/176 [==============================] - 68s 364ms/step - loss: 0.3740 - accuracy: 0.8305 - val_loss: 0.3724 - val_accuracy: 0.8380\n",
            "Epoch 2/20\n",
            "176/176 [==============================] - ETA: 0s - loss: 0.3736 - accuracy: 0.8352\n",
            "Epoch 2: val_accuracy did not improve from 0.83799\n",
            "176/176 [==============================] - 63s 356ms/step - loss: 0.3736 - accuracy: 0.8352 - val_loss: 0.3755 - val_accuracy: 0.8315\n",
            "Epoch 3/20\n",
            "176/176 [==============================] - ETA: 0s - loss: 0.3694 - accuracy: 0.8345\n",
            "Epoch 3: val_accuracy improved from 0.83799 to 0.83871, saving model to Model_CV\n"
          ]
        },
        {
          "output_type": "stream",
          "name": "stderr",
          "text": [
            "WARNING:absl:Found untraced functions such as _jit_compiled_convolution_op, _jit_compiled_convolution_op, _jit_compiled_convolution_op while saving (showing 3 of 3). These functions will not be directly callable after loading.\n"
          ]
        },
        {
          "output_type": "stream",
          "name": "stdout",
          "text": [
            "\b\b\b\b\b\b\b\b\b\b\b\b\b\b\b\b\b\b\b\b\b\b\b\b\b\b\b\b\b\b\b\b\b\b\b\b\b\b\b\b\b\b\b\b\b\b\b\b\b\b\b\b\b\b\b\b\b\b\b\b\b\b\b\b\b\b\b\b\b\b\b\b\b\b\b\b\b\b\b\b\b\b\b\b\r176/176 [==============================] - 63s 357ms/step - loss: 0.3694 - accuracy: 0.8345 - val_loss: 0.3656 - val_accuracy: 0.8387\n",
            "Epoch 4/20\n",
            "176/176 [==============================] - ETA: 0s - loss: 0.3635 - accuracy: 0.8400\n",
            "Epoch 4: val_accuracy did not improve from 0.83871\n",
            "176/176 [==============================] - 63s 359ms/step - loss: 0.3635 - accuracy: 0.8400 - val_loss: 0.4042 - val_accuracy: 0.8190\n",
            "Epoch 5/20\n",
            "176/176 [==============================] - ETA: 0s - loss: 0.3566 - accuracy: 0.8423\n",
            "Epoch 5: val_accuracy did not improve from 0.83871\n",
            "176/176 [==============================] - 62s 353ms/step - loss: 0.3566 - accuracy: 0.8423 - val_loss: 0.4138 - val_accuracy: 0.8082\n",
            "Epoch 6/20\n",
            "176/176 [==============================] - ETA: 0s - loss: 0.3548 - accuracy: 0.8443\n",
            "Epoch 6: val_accuracy did not improve from 0.83871\n",
            "176/176 [==============================] - 61s 344ms/step - loss: 0.3548 - accuracy: 0.8443 - val_loss: 0.3735 - val_accuracy: 0.8358\n",
            "Epoch 7/20\n",
            "176/176 [==============================] - ETA: 0s - loss: 0.3501 - accuracy: 0.8451\n",
            "Epoch 7: val_accuracy did not improve from 0.83871\n",
            "176/176 [==============================] - 63s 356ms/step - loss: 0.3501 - accuracy: 0.8451 - val_loss: 0.3757 - val_accuracy: 0.8226\n",
            "Epoch 8/20\n",
            "176/176 [==============================] - ETA: 0s - loss: 0.3536 - accuracy: 0.8430\n",
            "Epoch 8: val_accuracy improved from 0.83871 to 0.86165, saving model to Model_CV\n"
          ]
        },
        {
          "output_type": "stream",
          "name": "stderr",
          "text": [
            "WARNING:absl:Found untraced functions such as _jit_compiled_convolution_op, _jit_compiled_convolution_op, _jit_compiled_convolution_op while saving (showing 3 of 3). These functions will not be directly callable after loading.\n"
          ]
        },
        {
          "output_type": "stream",
          "name": "stdout",
          "text": [
            "\b\b\b\b\b\b\b\b\b\b\b\b\b\b\b\b\b\b\b\b\b\b\b\b\b\b\b\b\b\b\b\b\b\b\b\b\b\b\b\b\b\b\b\b\b\b\b\b\b\b\b\b\b\b\b\b\b\b\b\b\b\b\b\b\b\b\b\b\b\b\b\b\b\b\b\b\b\b\b\b\b\b\b\b\r176/176 [==============================] - 65s 371ms/step - loss: 0.3536 - accuracy: 0.8430 - val_loss: 0.3276 - val_accuracy: 0.8616\n",
            "Epoch 9/20\n",
            "176/176 [==============================] - ETA: 0s - loss: 0.3494 - accuracy: 0.8423\n",
            "Epoch 9: val_accuracy did not improve from 0.86165\n",
            "176/176 [==============================] - 63s 360ms/step - loss: 0.3494 - accuracy: 0.8423 - val_loss: 0.3531 - val_accuracy: 0.8462\n",
            "Epoch 10/20\n",
            "176/176 [==============================] - ETA: 0s - loss: 0.3414 - accuracy: 0.8502\n",
            "Epoch 10: val_accuracy did not improve from 0.86165\n",
            "176/176 [==============================] - 61s 349ms/step - loss: 0.3414 - accuracy: 0.8502 - val_loss: 0.3705 - val_accuracy: 0.8373\n",
            "Epoch 11/20\n",
            "176/176 [==============================] - ETA: 0s - loss: 0.3427 - accuracy: 0.8482\n",
            "Epoch 11: val_accuracy did not improve from 0.86165\n",
            "176/176 [==============================] - 63s 356ms/step - loss: 0.3427 - accuracy: 0.8482 - val_loss: 0.3446 - val_accuracy: 0.8452\n",
            "Epoch 12/20\n",
            "176/176 [==============================] - ETA: 0s - loss: 0.3337 - accuracy: 0.8549\n",
            "Epoch 12: val_accuracy did not improve from 0.86165\n",
            "176/176 [==============================] - 64s 364ms/step - loss: 0.3337 - accuracy: 0.8549 - val_loss: 0.3279 - val_accuracy: 0.8534\n",
            "Epoch 13/20\n",
            "176/176 [==============================] - ETA: 0s - loss: 0.3367 - accuracy: 0.8524\n",
            "Epoch 13: val_accuracy did not improve from 0.86165\n",
            "176/176 [==============================] - 62s 353ms/step - loss: 0.3367 - accuracy: 0.8524 - val_loss: 0.3330 - val_accuracy: 0.8588\n",
            "Epoch 14/20\n",
            "176/176 [==============================] - ETA: 0s - loss: 0.3377 - accuracy: 0.8532\n",
            "Epoch 14: val_accuracy did not improve from 0.86165\n",
            "176/176 [==============================] - 62s 355ms/step - loss: 0.3377 - accuracy: 0.8532 - val_loss: 0.3329 - val_accuracy: 0.8495\n",
            "Epoch 15/20\n",
            "176/176 [==============================] - ETA: 0s - loss: 0.3242 - accuracy: 0.8588\n",
            "Epoch 15: val_accuracy did not improve from 0.86165\n",
            "176/176 [==============================] - 61s 349ms/step - loss: 0.3242 - accuracy: 0.8588 - val_loss: 0.3676 - val_accuracy: 0.8308\n",
            "Epoch 16/20\n",
            "176/176 [==============================] - ETA: 0s - loss: 0.3214 - accuracy: 0.8594\n",
            "Epoch 16: val_accuracy did not improve from 0.86165\n",
            "176/176 [==============================] - 63s 360ms/step - loss: 0.3214 - accuracy: 0.8594 - val_loss: 0.3706 - val_accuracy: 0.8369\n",
            "Epoch 17/20\n",
            "176/176 [==============================] - ETA: 0s - loss: 0.3241 - accuracy: 0.8585\n",
            "Epoch 17: val_accuracy did not improve from 0.86165\n",
            "176/176 [==============================] - 63s 360ms/step - loss: 0.3241 - accuracy: 0.8585 - val_loss: 0.3250 - val_accuracy: 0.8559\n",
            "Epoch 18/20\n",
            "176/176 [==============================] - ETA: 0s - loss: 0.3163 - accuracy: 0.8621\n",
            "Epoch 18: val_accuracy did not improve from 0.86165\n",
            "176/176 [==============================] - 63s 361ms/step - loss: 0.3163 - accuracy: 0.8621 - val_loss: 0.3218 - val_accuracy: 0.8602\n",
            "Epoch 19/20\n",
            "176/176 [==============================] - ETA: 0s - loss: 0.3151 - accuracy: 0.8633\n",
            "Epoch 19: val_accuracy did not improve from 0.86165\n",
            "176/176 [==============================] - 63s 357ms/step - loss: 0.3151 - accuracy: 0.8633 - val_loss: 0.3270 - val_accuracy: 0.8552\n",
            "Epoch 20/20\n",
            "176/176 [==============================] - ETA: 0s - loss: 0.3164 - accuracy: 0.8614\n",
            "Epoch 20: val_accuracy improved from 0.86165 to 0.86953, saving model to Model_CV\n"
          ]
        },
        {
          "output_type": "stream",
          "name": "stderr",
          "text": [
            "WARNING:absl:Found untraced functions such as _jit_compiled_convolution_op, _jit_compiled_convolution_op, _jit_compiled_convolution_op while saving (showing 3 of 3). These functions will not be directly callable after loading.\n"
          ]
        },
        {
          "output_type": "stream",
          "name": "stdout",
          "text": [
            "\b\b\b\b\b\b\b\b\b\b\b\b\b\b\b\b\b\b\b\b\b\b\b\b\b\b\b\b\b\b\b\b\b\b\b\b\b\b\b\b\b\b\b\b\b\b\b\b\b\b\b\b\b\b\b\b\b\b\b\b\b\b\b\b\b\b\b\b\b\b\b\b\b\b\b\b\b\b\b\b\b\b\b\b\r176/176 [==============================] - 64s 365ms/step - loss: 0.3164 - accuracy: 0.8614 - val_loss: 0.3092 - val_accuracy: 0.8695\n",
            "Found 14982 validated image filenames belonging to 2 classes.\n",
            "Found 3746 validated image filenames belonging to 2 classes.\n",
            "Found 4682 validated image filenames belonging to 2 classes.\n",
            "Epoch 1/20\n",
            "176/176 [==============================] - ETA: 0s - loss: 0.3161 - accuracy: 0.8646\n",
            "Epoch 1: val_accuracy did not improve from 0.86953\n",
            "176/176 [==============================] - 65s 359ms/step - loss: 0.3161 - accuracy: 0.8646 - val_loss: 0.3188 - val_accuracy: 0.8638\n",
            "Epoch 2/20\n",
            "176/176 [==============================] - ETA: 0s - loss: 0.3211 - accuracy: 0.8601\n",
            "Epoch 2: val_accuracy did not improve from 0.86953\n",
            "176/176 [==============================] - 62s 353ms/step - loss: 0.3211 - accuracy: 0.8601 - val_loss: 0.3060 - val_accuracy: 0.8677\n",
            "Epoch 3/20\n",
            "176/176 [==============================] - ETA: 0s - loss: 0.3086 - accuracy: 0.8651\n",
            "Epoch 3: val_accuracy did not improve from 0.86953\n",
            "176/176 [==============================] - 62s 354ms/step - loss: 0.3086 - accuracy: 0.8651 - val_loss: 0.3376 - val_accuracy: 0.8527\n",
            "Epoch 4/20\n",
            "176/176 [==============================] - ETA: 0s - loss: 0.3114 - accuracy: 0.8658\n",
            "Epoch 4: val_accuracy did not improve from 0.86953\n",
            "176/176 [==============================] - 63s 357ms/step - loss: 0.3114 - accuracy: 0.8658 - val_loss: 0.3541 - val_accuracy: 0.8398\n",
            "Epoch 5/20\n",
            "176/176 [==============================] - ETA: 0s - loss: 0.3088 - accuracy: 0.8656\n",
            "Epoch 5: val_accuracy did not improve from 0.86953\n",
            "176/176 [==============================] - 62s 352ms/step - loss: 0.3088 - accuracy: 0.8656 - val_loss: 0.3175 - val_accuracy: 0.8606\n",
            "Epoch 6/20\n",
            "176/176 [==============================] - ETA: 0s - loss: 0.3009 - accuracy: 0.8678\n",
            "Epoch 6: val_accuracy did not improve from 0.86953\n",
            "176/176 [==============================] - 61s 348ms/step - loss: 0.3009 - accuracy: 0.8678 - val_loss: 0.3244 - val_accuracy: 0.8685\n",
            "Epoch 7/20\n",
            "176/176 [==============================] - ETA: 0s - loss: 0.2968 - accuracy: 0.8740\n",
            "Epoch 7: val_accuracy improved from 0.86953 to 0.88029, saving model to Model_CV\n"
          ]
        },
        {
          "output_type": "stream",
          "name": "stderr",
          "text": [
            "WARNING:absl:Found untraced functions such as _jit_compiled_convolution_op, _jit_compiled_convolution_op, _jit_compiled_convolution_op while saving (showing 3 of 3). These functions will not be directly callable after loading.\n"
          ]
        },
        {
          "output_type": "stream",
          "name": "stdout",
          "text": [
            "\b\b\b\b\b\b\b\b\b\b\b\b\b\b\b\b\b\b\b\b\b\b\b\b\b\b\b\b\b\b\b\b\b\b\b\b\b\b\b\b\b\b\b\b\b\b\b\b\b\b\b\b\b\b\b\b\b\b\b\b\b\b\b\b\b\b\b\b\b\b\b\b\b\b\b\b\b\b\b\b\b\b\b\b\r176/176 [==============================] - 66s 377ms/step - loss: 0.2968 - accuracy: 0.8740 - val_loss: 0.2903 - val_accuracy: 0.8803\n",
            "Epoch 8/20\n",
            "176/176 [==============================] - ETA: 0s - loss: 0.2986 - accuracy: 0.8712\n",
            "Epoch 8: val_accuracy did not improve from 0.88029\n",
            "176/176 [==============================] - 61s 346ms/step - loss: 0.2986 - accuracy: 0.8712 - val_loss: 0.3064 - val_accuracy: 0.8685\n",
            "Epoch 9/20\n",
            "176/176 [==============================] - ETA: 0s - loss: 0.3010 - accuracy: 0.8716\n",
            "Epoch 9: val_accuracy did not improve from 0.88029\n",
            "176/176 [==============================] - 63s 356ms/step - loss: 0.3010 - accuracy: 0.8716 - val_loss: 0.3100 - val_accuracy: 0.8670\n",
            "Epoch 10/20\n",
            "176/176 [==============================] - ETA: 0s - loss: 0.2930 - accuracy: 0.8726\n",
            "Epoch 10: val_accuracy did not improve from 0.88029\n",
            "176/176 [==============================] - 61s 348ms/step - loss: 0.2930 - accuracy: 0.8726 - val_loss: 0.3293 - val_accuracy: 0.8588\n",
            "Epoch 11/20\n",
            "176/176 [==============================] - ETA: 0s - loss: 0.2974 - accuracy: 0.8707\n",
            "Epoch 11: val_accuracy did not improve from 0.88029\n",
            "176/176 [==============================] - 61s 347ms/step - loss: 0.2974 - accuracy: 0.8707 - val_loss: 0.3144 - val_accuracy: 0.8656\n",
            "Epoch 12/20\n",
            "176/176 [==============================] - ETA: 0s - loss: 0.2885 - accuracy: 0.8737\n",
            "Epoch 12: val_accuracy did not improve from 0.88029\n",
            "176/176 [==============================] - 61s 347ms/step - loss: 0.2885 - accuracy: 0.8737 - val_loss: 0.2938 - val_accuracy: 0.8749\n",
            "Epoch 13/20\n",
            "176/176 [==============================] - ETA: 0s - loss: 0.2934 - accuracy: 0.8738\n",
            "Epoch 13: val_accuracy did not improve from 0.88029\n",
            "176/176 [==============================] - 62s 351ms/step - loss: 0.2934 - accuracy: 0.8738 - val_loss: 0.3380 - val_accuracy: 0.8602\n",
            "Epoch 14/20\n",
            "176/176 [==============================] - ETA: 0s - loss: 0.2974 - accuracy: 0.8702\n",
            "Epoch 14: val_accuracy did not improve from 0.88029\n",
            "176/176 [==============================] - 61s 345ms/step - loss: 0.2974 - accuracy: 0.8702 - val_loss: 0.3064 - val_accuracy: 0.8724\n",
            "Epoch 15/20\n",
            "176/176 [==============================] - ETA: 0s - loss: 0.2861 - accuracy: 0.8771\n",
            "Epoch 15: val_accuracy did not improve from 0.88029\n",
            "176/176 [==============================] - 62s 351ms/step - loss: 0.2861 - accuracy: 0.8771 - val_loss: 0.3148 - val_accuracy: 0.8591\n",
            "Epoch 16/20\n",
            "176/176 [==============================] - ETA: 0s - loss: 0.2920 - accuracy: 0.8754\n",
            "Epoch 16: val_accuracy did not improve from 0.88029\n",
            "176/176 [==============================] - 62s 354ms/step - loss: 0.2920 - accuracy: 0.8754 - val_loss: 0.3100 - val_accuracy: 0.8710\n",
            "Epoch 17/20\n",
            "176/176 [==============================] - ETA: 0s - loss: 0.2838 - accuracy: 0.8795\n",
            "Epoch 17: val_accuracy did not improve from 0.88029\n",
            "176/176 [==============================] - 60s 343ms/step - loss: 0.2838 - accuracy: 0.8795 - val_loss: 0.3056 - val_accuracy: 0.8659\n",
            "Epoch 18/20\n",
            "176/176 [==============================] - ETA: 0s - loss: 0.2870 - accuracy: 0.8791\n",
            "Epoch 18: val_accuracy did not improve from 0.88029\n",
            "176/176 [==============================] - 62s 351ms/step - loss: 0.2870 - accuracy: 0.8791 - val_loss: 0.3113 - val_accuracy: 0.8692\n",
            "Epoch 19/20\n",
            "176/176 [==============================] - ETA: 0s - loss: 0.2923 - accuracy: 0.8732\n",
            "Epoch 19: val_accuracy did not improve from 0.88029\n",
            "176/176 [==============================] - 62s 355ms/step - loss: 0.2923 - accuracy: 0.8732 - val_loss: 0.2985 - val_accuracy: 0.8717\n",
            "Epoch 20/20\n",
            "176/176 [==============================] - ETA: 0s - loss: 0.2860 - accuracy: 0.8769\n",
            "Epoch 20: val_accuracy did not improve from 0.88029\n",
            "176/176 [==============================] - 62s 352ms/step - loss: 0.2860 - accuracy: 0.8769 - val_loss: 0.3012 - val_accuracy: 0.8713\n",
            "Found 14982 validated image filenames belonging to 2 classes.\n",
            "Found 3746 validated image filenames belonging to 2 classes.\n",
            "Found 4682 validated image filenames belonging to 2 classes.\n",
            "Epoch 1/20\n",
            "176/176 [==============================] - ETA: 0s - loss: 0.2821 - accuracy: 0.8780\n",
            "Epoch 1: val_accuracy did not improve from 0.88029\n",
            "176/176 [==============================] - 65s 351ms/step - loss: 0.2821 - accuracy: 0.8780 - val_loss: 0.2950 - val_accuracy: 0.8699\n",
            "Epoch 2/20\n",
            "176/176 [==============================] - ETA: 0s - loss: 0.2791 - accuracy: 0.8814\n",
            "Epoch 2: val_accuracy did not improve from 0.88029\n",
            "176/176 [==============================] - 60s 340ms/step - loss: 0.2791 - accuracy: 0.8814 - val_loss: 0.2908 - val_accuracy: 0.8760\n",
            "Epoch 3/20\n",
            "176/176 [==============================] - ETA: 0s - loss: 0.2756 - accuracy: 0.8837\n",
            "Epoch 3: val_accuracy improved from 0.88029 to 0.88459, saving model to Model_CV\n"
          ]
        },
        {
          "output_type": "stream",
          "name": "stderr",
          "text": [
            "WARNING:absl:Found untraced functions such as _jit_compiled_convolution_op, _jit_compiled_convolution_op, _jit_compiled_convolution_op while saving (showing 3 of 3). These functions will not be directly callable after loading.\n"
          ]
        },
        {
          "output_type": "stream",
          "name": "stdout",
          "text": [
            "\b\b\b\b\b\b\b\b\b\b\b\b\b\b\b\b\b\b\b\b\b\b\b\b\b\b\b\b\b\b\b\b\b\b\b\b\b\b\b\b\b\b\b\b\b\b\b\b\b\b\b\b\b\b\b\b\b\b\b\b\b\b\b\b\b\b\b\b\b\b\b\b\b\b\b\b\b\b\b\b\b\b\b\b\r176/176 [==============================] - 64s 365ms/step - loss: 0.2756 - accuracy: 0.8837 - val_loss: 0.2882 - val_accuracy: 0.8846\n",
            "Epoch 4/20\n",
            "176/176 [==============================] - ETA: 0s - loss: 0.2882 - accuracy: 0.8748\n",
            "Epoch 4: val_accuracy did not improve from 0.88459\n",
            "176/176 [==============================] - 60s 344ms/step - loss: 0.2882 - accuracy: 0.8748 - val_loss: 0.3379 - val_accuracy: 0.8627\n",
            "Epoch 5/20\n",
            "176/176 [==============================] - ETA: 0s - loss: 0.2772 - accuracy: 0.8820\n",
            "Epoch 5: val_accuracy did not improve from 0.88459\n",
            "176/176 [==============================] - 62s 351ms/step - loss: 0.2772 - accuracy: 0.8820 - val_loss: 0.3051 - val_accuracy: 0.8821\n",
            "Epoch 6/20\n",
            "176/176 [==============================] - ETA: 0s - loss: 0.2742 - accuracy: 0.8861\n",
            "Epoch 6: val_accuracy did not improve from 0.88459\n",
            "176/176 [==============================] - 62s 350ms/step - loss: 0.2742 - accuracy: 0.8861 - val_loss: 0.3051 - val_accuracy: 0.8710\n",
            "Epoch 7/20\n",
            "176/176 [==============================] - ETA: 0s - loss: 0.2686 - accuracy: 0.8846\n",
            "Epoch 7: val_accuracy did not improve from 0.88459\n",
            "176/176 [==============================] - 62s 354ms/step - loss: 0.2686 - accuracy: 0.8846 - val_loss: 0.3156 - val_accuracy: 0.8685\n",
            "Epoch 8/20\n",
            "176/176 [==============================] - ETA: 0s - loss: 0.2797 - accuracy: 0.8803\n",
            "Epoch 8: val_accuracy did not improve from 0.88459\n",
            "176/176 [==============================] - 61s 349ms/step - loss: 0.2797 - accuracy: 0.8803 - val_loss: 0.3431 - val_accuracy: 0.8530\n",
            "Epoch 9/20\n",
            "176/176 [==============================] - ETA: 0s - loss: 0.2687 - accuracy: 0.8855\n",
            "Epoch 9: val_accuracy did not improve from 0.88459\n",
            "176/176 [==============================] - 60s 339ms/step - loss: 0.2687 - accuracy: 0.8855 - val_loss: 0.3345 - val_accuracy: 0.8674\n",
            "Epoch 10/20\n",
            "176/176 [==============================] - ETA: 0s - loss: 0.2712 - accuracy: 0.8820\n",
            "Epoch 10: val_accuracy did not improve from 0.88459\n",
            "176/176 [==============================] - 62s 354ms/step - loss: 0.2712 - accuracy: 0.8820 - val_loss: 0.2996 - val_accuracy: 0.8717\n",
            "Epoch 11/20\n",
            "176/176 [==============================] - ETA: 0s - loss: 0.2690 - accuracy: 0.8839\n",
            "Epoch 11: val_accuracy did not improve from 0.88459\n",
            "176/176 [==============================] - 62s 350ms/step - loss: 0.2690 - accuracy: 0.8839 - val_loss: 0.3273 - val_accuracy: 0.8606\n",
            "Epoch 12/20\n",
            "176/176 [==============================] - ETA: 0s - loss: 0.2700 - accuracy: 0.8856\n",
            "Epoch 12: val_accuracy did not improve from 0.88459\n",
            "176/176 [==============================] - 62s 353ms/step - loss: 0.2700 - accuracy: 0.8856 - val_loss: 0.3358 - val_accuracy: 0.8462\n",
            "Epoch 13/20\n",
            "176/176 [==============================] - ETA: 0s - loss: 0.2701 - accuracy: 0.8848\n",
            "Epoch 13: val_accuracy did not improve from 0.88459\n",
            "176/176 [==============================] - 62s 355ms/step - loss: 0.2701 - accuracy: 0.8848 - val_loss: 0.2891 - val_accuracy: 0.8821\n",
            "Epoch 14/20\n",
            "176/176 [==============================] - ETA: 0s - loss: 0.2684 - accuracy: 0.8879\n",
            "Epoch 14: val_accuracy did not improve from 0.88459\n",
            "176/176 [==============================] - 61s 344ms/step - loss: 0.2684 - accuracy: 0.8879 - val_loss: 0.3195 - val_accuracy: 0.8602\n",
            "Epoch 15/20\n",
            "176/176 [==============================] - ETA: 0s - loss: 0.2697 - accuracy: 0.8860\n",
            "Epoch 15: val_accuracy did not improve from 0.88459\n",
            "176/176 [==============================] - 60s 344ms/step - loss: 0.2697 - accuracy: 0.8860 - val_loss: 0.3510 - val_accuracy: 0.8430\n",
            "Epoch 16/20\n",
            "176/176 [==============================] - ETA: 0s - loss: 0.2634 - accuracy: 0.8884\n",
            "Epoch 16: val_accuracy did not improve from 0.88459\n",
            "176/176 [==============================] - 61s 345ms/step - loss: 0.2634 - accuracy: 0.8884 - val_loss: 0.3103 - val_accuracy: 0.8710\n",
            "Epoch 17/20\n",
            "176/176 [==============================] - ETA: 0s - loss: 0.2712 - accuracy: 0.8835\n",
            "Epoch 17: val_accuracy did not improve from 0.88459\n",
            "176/176 [==============================] - 62s 354ms/step - loss: 0.2712 - accuracy: 0.8835 - val_loss: 0.2877 - val_accuracy: 0.8839\n",
            "Epoch 18/20\n",
            "176/176 [==============================] - ETA: 0s - loss: 0.2618 - accuracy: 0.8886\n",
            "Epoch 18: val_accuracy improved from 0.88459 to 0.88746, saving model to Model_CV\n"
          ]
        },
        {
          "output_type": "stream",
          "name": "stderr",
          "text": [
            "WARNING:absl:Found untraced functions such as _jit_compiled_convolution_op, _jit_compiled_convolution_op, _jit_compiled_convolution_op while saving (showing 3 of 3). These functions will not be directly callable after loading.\n"
          ]
        },
        {
          "output_type": "stream",
          "name": "stdout",
          "text": [
            "\b\b\b\b\b\b\b\b\b\b\b\b\b\b\b\b\b\b\b\b\b\b\b\b\b\b\b\b\b\b\b\b\b\b\b\b\b\b\b\b\b\b\b\b\b\b\b\b\b\b\b\b\b\b\b\b\b\b\b\b\b\b\b\b\b\b\b\b\b\b\b\b\b\b\b\b\b\b\b\b\b\b\b\b\r176/176 [==============================] - 65s 368ms/step - loss: 0.2618 - accuracy: 0.8886 - val_loss: 0.2778 - val_accuracy: 0.8875\n",
            "Epoch 19/20\n",
            "176/176 [==============================] - ETA: 0s - loss: 0.2586 - accuracy: 0.8910\n",
            "Epoch 19: val_accuracy did not improve from 0.88746\n",
            "176/176 [==============================] - 61s 346ms/step - loss: 0.2586 - accuracy: 0.8910 - val_loss: 0.2824 - val_accuracy: 0.8789\n",
            "Epoch 20/20\n",
            "176/176 [==============================] - ETA: 0s - loss: 0.2573 - accuracy: 0.8899\n",
            "Epoch 20: val_accuracy did not improve from 0.88746\n",
            "176/176 [==============================] - 62s 353ms/step - loss: 0.2573 - accuracy: 0.8899 - val_loss: 0.2721 - val_accuracy: 0.8864\n",
            "Found 14982 validated image filenames belonging to 2 classes.\n",
            "Found 3746 validated image filenames belonging to 2 classes.\n",
            "Found 4682 validated image filenames belonging to 2 classes.\n",
            "Epoch 1/20\n",
            "176/176 [==============================] - ETA: 0s - loss: 0.2630 - accuracy: 0.8866\n",
            "Epoch 1: val_accuracy did not improve from 0.88746\n",
            "176/176 [==============================] - 65s 349ms/step - loss: 0.2630 - accuracy: 0.8866 - val_loss: 0.3428 - val_accuracy: 0.8513\n",
            "Epoch 2/20\n",
            "176/176 [==============================] - ETA: 0s - loss: 0.2549 - accuracy: 0.8904\n",
            "Epoch 2: val_accuracy did not improve from 0.88746\n",
            "176/176 [==============================] - 61s 346ms/step - loss: 0.2549 - accuracy: 0.8904 - val_loss: 0.2924 - val_accuracy: 0.8796\n",
            "Epoch 3/20\n",
            "176/176 [==============================] - ETA: 0s - loss: 0.2506 - accuracy: 0.8951\n",
            "Epoch 3: val_accuracy did not improve from 0.88746\n",
            "176/176 [==============================] - 61s 349ms/step - loss: 0.2506 - accuracy: 0.8951 - val_loss: 0.2736 - val_accuracy: 0.8871\n",
            "Epoch 4/20\n",
            "176/176 [==============================] - ETA: 0s - loss: 0.2590 - accuracy: 0.8935\n",
            "Epoch 4: val_accuracy did not improve from 0.88746\n",
            "176/176 [==============================] - 62s 353ms/step - loss: 0.2590 - accuracy: 0.8935 - val_loss: 0.3167 - val_accuracy: 0.8670\n",
            "Epoch 5/20\n",
            "176/176 [==============================] - ETA: 0s - loss: 0.2552 - accuracy: 0.8916\n",
            "Epoch 5: val_accuracy did not improve from 0.88746\n",
            "176/176 [==============================] - 63s 356ms/step - loss: 0.2552 - accuracy: 0.8916 - val_loss: 0.2793 - val_accuracy: 0.8817\n",
            "Epoch 6/20\n",
            "176/176 [==============================] - ETA: 0s - loss: 0.2577 - accuracy: 0.8910\n",
            "Epoch 6: val_accuracy did not improve from 0.88746\n",
            "176/176 [==============================] - 62s 355ms/step - loss: 0.2577 - accuracy: 0.8910 - val_loss: 0.3153 - val_accuracy: 0.8706\n",
            "Epoch 7/20\n",
            "176/176 [==============================] - ETA: 0s - loss: 0.2527 - accuracy: 0.8926\n",
            "Epoch 7: val_accuracy did not improve from 0.88746\n",
            "176/176 [==============================] - 62s 354ms/step - loss: 0.2527 - accuracy: 0.8926 - val_loss: 0.2865 - val_accuracy: 0.8824\n",
            "Epoch 8/20\n",
            "176/176 [==============================] - ETA: 0s - loss: 0.2518 - accuracy: 0.8942\n",
            "Epoch 8: val_accuracy did not improve from 0.88746\n",
            "176/176 [==============================] - 60s 339ms/step - loss: 0.2518 - accuracy: 0.8942 - val_loss: 0.3011 - val_accuracy: 0.8699\n",
            "Epoch 9/20\n",
            "176/176 [==============================] - ETA: 0s - loss: 0.2509 - accuracy: 0.8922\n",
            "Epoch 9: val_accuracy improved from 0.88746 to 0.88925, saving model to Model_CV\n"
          ]
        },
        {
          "output_type": "stream",
          "name": "stderr",
          "text": [
            "WARNING:absl:Found untraced functions such as _jit_compiled_convolution_op, _jit_compiled_convolution_op, _jit_compiled_convolution_op while saving (showing 3 of 3). These functions will not be directly callable after loading.\n"
          ]
        },
        {
          "output_type": "stream",
          "name": "stdout",
          "text": [
            "\b\b\b\b\b\b\b\b\b\b\b\b\b\b\b\b\b\b\b\b\b\b\b\b\b\b\b\b\b\b\b\b\b\b\b\b\b\b\b\b\b\b\b\b\b\b\b\b\b\b\b\b\b\b\b\b\b\b\b\b\b\b\b\b\b\b\b\b\b\b\b\b\b\b\b\b\b\b\b\b\b\b\b\b\r176/176 [==============================] - 64s 364ms/step - loss: 0.2509 - accuracy: 0.8922 - val_loss: 0.2925 - val_accuracy: 0.8892\n",
            "Epoch 10/20\n",
            "176/176 [==============================] - ETA: 0s - loss: 0.2532 - accuracy: 0.8923\n",
            "Epoch 10: val_accuracy did not improve from 0.88925\n",
            "176/176 [==============================] - 62s 350ms/step - loss: 0.2532 - accuracy: 0.8923 - val_loss: 0.2886 - val_accuracy: 0.8781\n",
            "Epoch 11/20\n",
            "176/176 [==============================] - ETA: 0s - loss: 0.2513 - accuracy: 0.8942\n",
            "Epoch 11: val_accuracy did not improve from 0.88925\n",
            "176/176 [==============================] - 63s 359ms/step - loss: 0.2513 - accuracy: 0.8942 - val_loss: 0.2681 - val_accuracy: 0.8799\n",
            "Epoch 12/20\n",
            "176/176 [==============================] - ETA: 0s - loss: 0.2508 - accuracy: 0.8956\n",
            "Epoch 12: val_accuracy did not improve from 0.88925\n",
            "176/176 [==============================] - 62s 354ms/step - loss: 0.2508 - accuracy: 0.8956 - val_loss: 0.3054 - val_accuracy: 0.8703\n",
            "Epoch 13/20\n",
            "176/176 [==============================] - ETA: 0s - loss: 0.2455 - accuracy: 0.8968\n",
            "Epoch 13: val_accuracy did not improve from 0.88925\n",
            "176/176 [==============================] - 60s 341ms/step - loss: 0.2455 - accuracy: 0.8968 - val_loss: 0.3038 - val_accuracy: 0.8738\n",
            "Epoch 14/20\n",
            "176/176 [==============================] - ETA: 0s - loss: 0.2445 - accuracy: 0.8964\n",
            "Epoch 14: val_accuracy did not improve from 0.88925\n",
            "176/176 [==============================] - 62s 355ms/step - loss: 0.2445 - accuracy: 0.8964 - val_loss: 0.2678 - val_accuracy: 0.8860\n",
            "Epoch 15/20\n",
            "176/176 [==============================] - ETA: 0s - loss: 0.2397 - accuracy: 0.8973\n",
            "Epoch 15: val_accuracy did not improve from 0.88925\n",
            "176/176 [==============================] - 62s 354ms/step - loss: 0.2397 - accuracy: 0.8973 - val_loss: 0.2874 - val_accuracy: 0.8824\n",
            "Epoch 16/20\n",
            "176/176 [==============================] - ETA: 0s - loss: 0.2455 - accuracy: 0.8940\n",
            "Epoch 16: val_accuracy did not improve from 0.88925\n",
            "176/176 [==============================] - 63s 356ms/step - loss: 0.2455 - accuracy: 0.8940 - val_loss: 0.3133 - val_accuracy: 0.8753\n",
            "Epoch 17/20\n",
            "176/176 [==============================] - ETA: 0s - loss: 0.2451 - accuracy: 0.8967\n",
            "Epoch 17: val_accuracy did not improve from 0.88925\n",
            "176/176 [==============================] - 59s 338ms/step - loss: 0.2451 - accuracy: 0.8967 - val_loss: 0.2764 - val_accuracy: 0.8814\n",
            "Epoch 18/20\n",
            "176/176 [==============================] - ETA: 0s - loss: 0.2464 - accuracy: 0.8966\n",
            "Epoch 18: val_accuracy did not improve from 0.88925\n",
            "176/176 [==============================] - 63s 358ms/step - loss: 0.2464 - accuracy: 0.8966 - val_loss: 0.2882 - val_accuracy: 0.8781\n",
            "Epoch 19/20\n",
            "176/176 [==============================] - ETA: 0s - loss: 0.2459 - accuracy: 0.8954\n",
            "Epoch 19: val_accuracy did not improve from 0.88925\n",
            "176/176 [==============================] - 61s 348ms/step - loss: 0.2459 - accuracy: 0.8954 - val_loss: 0.2898 - val_accuracy: 0.8753\n",
            "Epoch 20/20\n",
            "176/176 [==============================] - ETA: 0s - loss: 0.2431 - accuracy: 0.8998\n",
            "Epoch 20: val_accuracy did not improve from 0.88925\n",
            "176/176 [==============================] - 65s 369ms/step - loss: 0.2431 - accuracy: 0.8998 - val_loss: 0.3121 - val_accuracy: 0.8652\n"
          ]
        }
      ]
    },
    {
      "cell_type": "code",
      "source": [
        "model_cv_history = []"
      ],
      "metadata": {
        "id": "rV9pDew4KaBz"
      },
      "execution_count": 21,
      "outputs": []
    },
    {
      "cell_type": "code",
      "source": [
        "import matplotlib.pyplot as plt\n",
        "\n",
        "history = fitCV.history\n",
        "epochs = range(1, len(history['accuracy']) + 1)\n",
        "\n",
        "plt.plot(epochs, history['accuracy'], 'bo', label='Training accuracy')\n",
        "plt.plot(epochs, history['val_accuracy'], 'b', label='Validation accuracy')\n",
        "plt.title('Training and validation accuracy curves')\n",
        "plt.legend()\n",
        "\n",
        "plt.show()"
      ],
      "metadata": {
        "colab": {
          "base_uri": "https://localhost:8080/",
          "height": 452
        },
        "id": "2QIGL819n3MF",
        "outputId": "3d228c44-c612-4f9b-b211-3c3273c7c864"
      },
      "execution_count": 22,
      "outputs": [
        {
          "output_type": "display_data",
          "data": {
            "text/plain": [
              "<Figure size 640x480 with 1 Axes>"
            ],
            "image/png": "[encoded data removed]"
          },
          "metadata": {}
        }
      ]
    },
    {
      "cell_type": "code",
      "source": [
        "history = fitCV.history\n",
        "epochs = range(1, len(history['loss']) + 1)\n",
        "\n",
        "plt.plot(epochs, history['loss'], 'bo', label='Training Loss')\n",
        "plt.plot(epochs, history['val_loss'], 'b', label='Validation Loss')\n",
        "plt.title('Training and validation loss curves')\n",
        "plt.legend()\n",
        "\n",
        "plt.show()"
      ],
      "metadata": {
        "colab": {
          "base_uri": "https://localhost:8080/",
          "height": 452
        },
        "id": "TAmBSWZ3yiy3",
        "outputId": "af64a982-bceb-44f3-c981-e4453d4d16f9"
      },
      "execution_count": 23,
      "outputs": [
        {
          "output_type": "display_data",
          "data": {
            "text/plain": [
              "<Figure size 640x480 with 1 Axes>"
            ],
            "image/png": "[encoded data removed]"
          },
          "metadata": {}
        }
      ]
    },
    {
      "cell_type": "code",
      "source": [
        "  # Use garbage collector for RAM and free up GPU \n",
        "\n",
        "  tf.keras.backend.clear_session()\n",
        "  gc.collect()"
      ],
      "metadata": {
        "id": "cg6gwRZ0KZ_J",
        "colab": {
          "base_uri": "https://localhost:8080/"
        },
        "outputId": "9457f5ce-9bf8-4f91-9322-646ce759171a"
      },
      "execution_count": 24,
      "outputs": [
        {
          "output_type": "execute_result",
          "data": {
            "text/plain": [
              "25079"
            ]
          },
          "metadata": {},
          "execution_count": 24
        }
      ]
    },
    {
      "cell_type": "code",
      "source": [
        "plt.title('Train Accuracy vs Val Accuracy')\n",
        "plt.plot(model_cv_history[0].history['accuracy'], label='Train Accuracy Fold 1', color='black')\n",
        "plt.plot(model_cv_history[0].history['val_accuracy'], label='Val Accuracy Fold 1', color='black', linestyle = \"dashdot\")\n",
        "\n",
        "plt.plot(model_cv_history[1].history['accuracy'], label='Train Accuracy Fold 2', color='red', )\n",
        "plt.plot(model_cv_history[1].history['val_accuracy'], label='Val Accuracy Fold 2', color='red', linestyle = \"dashdot\")\n",
        "\n",
        "plt.plot(model_cv_history[2].history['accuracy'], label='Train Accuracy Fold 3', color='green', )\n",
        "plt.plot(model_cv_history[2].history['val_accuracy'], label='Val Accuracy Fold 3', color='green', linestyle = \"dashdot\")\n",
        "\n",
        "plt.plot(model_cv_history[3].history['accuracy'], label='Train Accuracy Fold 4', color='blue', )\n",
        "plt.plot(model_cv_history[3].history['val_accuracy'], label='Val Accuracy Fold 4', color='blue', linestyle = \"dashdot\")\n",
        "\n",
        "plt.plot(model_cv_history[4].history['accuracy'], label='Train Accuracy Fold 5', color='orange', )\n",
        "plt.plot(model_cv_history[4].history['val_accuracy'], label='Val Accuracy Fold 5', color='orange', linestyle = \"dashdot\")\n",
        "\n",
        "plt.legend()\n",
        "plt.show()"
      ],
      "metadata": {
        "id": "U8LSDRbzKaEP",
        "colab": {
          "base_uri": "https://localhost:8080/",
          "height": 671
        },
        "outputId": "5ab03ea2-0045-4697-dba3-6ee85a462e47"
      },
      "execution_count": 25,
      "outputs": [
        {
          "output_type": "error",
          "ename": "IndexError",
          "evalue": "ignored",
          "traceback": [
            "\u001b[0;31m---------------------------------------------------------------------------\u001b[0m",
            "\u001b[0;31mIndexError\u001b[0m                                Traceback (most recent call last)",
            "\u001b[0;32m<ipython-input-25-a4f64dadf39b>\u001b[0m in \u001b[0;36m<cell line: 2>\u001b[0;34m()\u001b[0m\n\u001b[1;32m      1\u001b[0m \u001b[0mplt\u001b[0m\u001b[0;34m.\u001b[0m\u001b[0mtitle\u001b[0m\u001b[0;34m(\u001b[0m\u001b[0;34m'Train Accuracy vs Val Accuracy'\u001b[0m\u001b[0;34m)\u001b[0m\u001b[0;34m\u001b[0m\u001b[0;34m\u001b[0m\u001b[0m\n\u001b[0;32m----> 2\u001b[0;31m \u001b[0mplt\u001b[0m\u001b[0;34m.\u001b[0m\u001b[0mplot\u001b[0m\u001b[0;34m(\u001b[0m\u001b[0mmodel_cv_history\u001b[0m\u001b[0;34m[\u001b[0m\u001b[0;36m0\u001b[0m\u001b[0;34m]\u001b[0m\u001b[0;34m.\u001b[0m\u001b[0mhistory\u001b[0m\u001b[0;34m[\u001b[0m\u001b[0;34m'accuracy'\u001b[0m\u001b[0;34m]\u001b[0m\u001b[0;34m,\u001b[0m \u001b[0mlabel\u001b[0m\u001b[0;34m=\u001b[0m\u001b[0;34m'Train Accuracy Fold 1'\u001b[0m\u001b[0;34m,\u001b[0m \u001b[0mcolor\u001b[0m\u001b[0;34m=\u001b[0m\u001b[0;34m'black'\u001b[0m\u001b[0;34m)\u001b[0m\u001b[0;34m\u001b[0m\u001b[0;34m\u001b[0m\u001b[0m\n\u001b[0m\u001b[1;32m      3\u001b[0m \u001b[0mplt\u001b[0m\u001b[0;34m.\u001b[0m\u001b[0mplot\u001b[0m\u001b[0;34m(\u001b[0m\u001b[0mmodel_cv_history\u001b[0m\u001b[0;34m[\u001b[0m\u001b[0;36m0\u001b[0m\u001b[0;34m]\u001b[0m\u001b[0;34m.\u001b[0m\u001b[0mhistory\u001b[0m\u001b[0;34m[\u001b[0m\u001b[0;34m'val_accuracy'\u001b[0m\u001b[0;34m]\u001b[0m\u001b[0;34m,\u001b[0m \u001b[0mlabel\u001b[0m\u001b[0;34m=\u001b[0m\u001b[0;34m'Val Accuracy Fold 1'\u001b[0m\u001b[0;34m,\u001b[0m \u001b[0mcolor\u001b[0m\u001b[0;34m=\u001b[0m\u001b[0;34m'black'\u001b[0m\u001b[0;34m,\u001b[0m \u001b[0mlinestyle\u001b[0m \u001b[0;34m=\u001b[0m \u001b[0;34m\"dashdot\"\u001b[0m\u001b[0;34m)\u001b[0m\u001b[0;34m\u001b[0m\u001b[0;34m\u001b[0m\u001b[0m\n\u001b[1;32m      4\u001b[0m \u001b[0;34m\u001b[0m\u001b[0m\n\u001b[1;32m      5\u001b[0m \u001b[0mplt\u001b[0m\u001b[0;34m.\u001b[0m\u001b[0mplot\u001b[0m\u001b[0;34m(\u001b[0m\u001b[0mmodel_cv_history\u001b[0m\u001b[0;34m[\u001b[0m\u001b[0;36m1\u001b[0m\u001b[0;34m]\u001b[0m\u001b[0;34m.\u001b[0m\u001b[0mhistory\u001b[0m\u001b[0;34m[\u001b[0m\u001b[0;34m'accuracy'\u001b[0m\u001b[0;34m]\u001b[0m\u001b[0;34m,\u001b[0m \u001b[0mlabel\u001b[0m\u001b[0;34m=\u001b[0m\u001b[0;34m'Train Accuracy Fold 2'\u001b[0m\u001b[0;34m,\u001b[0m \u001b[0mcolor\u001b[0m\u001b[0;34m=\u001b[0m\u001b[0;34m'red'\u001b[0m\u001b[0;34m,\u001b[0m \u001b[0;34m)\u001b[0m\u001b[0;34m\u001b[0m\u001b[0;34m\u001b[0m\u001b[0m\n",
            "\u001b[0;31mIndexError\u001b[0m: list index out of range"
          ]
        },
        {
          "output_type": "display_data",
          "data": {
            "text/plain": [
              "<Figure size 640x480 with 1 Axes>"
            ],
            "image/png": "[encoded data removed]"
          },
          "metadata": {}
        }
      ]
    },
    {
      "cell_type": "code",
      "source": [
        "plt.title('Train loss vs Validation loss')\n",
        "\n",
        "\n",
        "plt.plot(model_cv_history[1].history['loss'], label='Train loss Fold 2', color='red', )\n",
        "plt.plot(model_cv_history[1].history['val_loss'], label='Val loss Fold 2', color='red', linestyle = \"dashdot\")\n",
        "\n",
        "plt.plot(model_cv_history[2].history['loss'], label='Train loss Fold 3', color='green', )\n",
        "plt.plot(model_cv_history[2].history['val_loss'], label='Val loss Fold 3', color='green', linestyle = \"dashdot\")\n",
        "\n",
        "plt.plot(model_cv_history[3].history['loss'], label='Train loss Fold 4', color='blue', )\n",
        "plt.plot(model_cv_history[3].history['val_loss'], label='Val loss Fold 4', color='blue', linestyle = \"dashdot\")\n",
        "\n",
        "\n",
        "plt.legend()\n",
        "plt.show()"
      ],
      "metadata": {
        "id": "WdOHJ6GpVfK5"
      },
      "execution_count": null,
      "outputs": []
    },
    {
      "cell_type": "code",
      "source": [
        "len(history)"
      ],
      "metadata": {
        "id": "PXeAUcz6VfOc"
      },
      "execution_count": null,
      "outputs": []
    },
    {
      "cell_type": "code",
      "source": [],
      "metadata": {
        "id": "haEJlicEVfRo"
      },
      "execution_count": null,
      "outputs": []
    },
    {
      "cell_type": "code",
      "source": [],
      "metadata": {
        "id": "zjvII1cDVfUa"
      },
      "execution_count": null,
      "outputs": []
    },
    {
      "cell_type": "code",
      "source": [],
      "metadata": {
        "id": "TqqpUjvmVfXF"
      },
      "execution_count": null,
      "outputs": []
    },
    {
      "cell_type": "code",
      "source": [],
      "metadata": {
        "id": "rW5smHxRVfac"
      },
      "execution_count": null,
      "outputs": []
    },
    {
      "cell_type": "code",
      "source": [],
      "metadata": {
        "id": "zl7VTuwxDwqJ"
      },
      "execution_count": null,
      "outputs": []
    },
    {
      "cell_type": "code",
      "source": [],
      "metadata": {
        "id": "vn8n4rRlDwtN"
      },
      "execution_count": null,
      "outputs": []
    },
    {
      "cell_type": "code",
      "source": [],
      "metadata": {
        "id": "E7Zq_0wPDwwS"
      },
      "execution_count": null,
      "outputs": []
    },
    {
      "cell_type": "code",
      "source": [],
      "metadata": {
        "id": "Ah4M_Im1DwzD"
      },
      "execution_count": null,
      "outputs": []
    },
    {
      "cell_type": "code",
      "source": [],
      "metadata": {
        "id": "wR33xxwcDw1x"
      },
      "execution_count": null,
      "outputs": []
    },
    {
      "cell_type": "code",
      "source": [],
      "metadata": {
        "id": "4mBu9PndDw4Z"
      },
      "execution_count": null,
      "outputs": []
    },
    {
      "cell_type": "code",
      "source": [],
      "metadata": {
        "id": "oZxGmO2eDw60"
      },
      "execution_count": null,
      "outputs": []
    },
    {
      "cell_type": "code",
      "source": [],
      "metadata": {
        "id": "a_z0UfupkU8Z"
      },
      "execution_count": null,
      "outputs": []
    },
    {
      "cell_type": "code",
      "source": [],
      "metadata": {
        "id": "eclIyShukU--"
      },
      "execution_count": null,
      "outputs": []
    }
  ],
  "metadata": {
    "colab": {
      "provenance": [],
      "include_colab_link": true
    },
    "kernelspec": {
      "display_name": "Python 3",
      "name": "python3"
    },
    "language_info": {
      "name": "python"
    },
    "accelerator": "GPU",
    "gpuClass": "standard"
  },
  "nbformat": 4,
  "nbformat_minor": 0
}