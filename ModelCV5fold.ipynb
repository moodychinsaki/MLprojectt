{
  "cells": [
    {
      "cell_type": "markdown",
      "metadata": {
        "id": "view-in-github",
        "colab_type": "text"
      },
      "source": [
        "<a href=\"https://colab.research.google.com/github/moodychinsaki/MLprojectt/blob/main/ModelCV5fold.ipynb\" target=\"_parent\"><img src=\"https://colab.research.google.com/assets/colab-badge.svg\" alt=\"Open In Colab\"/></a>"
      ]
    },
    {
      "cell_type": "markdown",
      "metadata": {
        "id": "-x5nnf-RCGCV"
      },
      "source": [
        "ModelCV-5fold"
      ]
    },
    {
      "cell_type": "code",
      "execution_count": 1,
      "metadata": {
        "id": "-I2M3_GeBlPu"
      },
      "outputs": [],
      "source": [
        "import os\n",
        "from os import listdir, makedirs\n",
        "from os.path import isfile, join\n",
        "import pandas as pd\n",
        "from PIL import Image\n",
        "import glob\n",
        "from pathlib import Path\n",
        "import shutil\n",
        "import tensorflow as tf\n",
        "from tensorflow import keras\n",
        "from tensorflow.keras import layers\n",
        "from tensorflow.keras.preprocessing.image import ImageDataGenerator\n",
        "from sklearn.model_selection import KFold, StratifiedKFold\n",
        "from tensorflow.keras.optimizers import SGD, RMSprop\n",
        "import cv2\n",
        "from os.path import isfile,join, exists\n",
        "import zipfile\n",
        "from sklearn.model_selection import train_test_split\n",
        "import matplotlib.pyplot as plt\n",
        "import pickle\n",
        "import statistics as st\n",
        "from keras.models import Sequential\n",
        "from keras.layers import Conv2D\n",
        "from keras.layers import Activation\n",
        "from keras.layers import MaxPooling2D\n",
        "from keras.layers import Flatten\n",
        "from keras.layers import Dense\n",
        "import gc\n",
        "\n",
        "\n",
        "\n"
      ]
    },
    {
      "cell_type": "code",
      "source": [
        "pip uninstall keras-preprocessing -y"
      ],
      "metadata": {
        "colab": {
          "base_uri": "https://localhost:8080/"
        },
        "id": "Xm1fYuboO5iH",
        "outputId": "d9313e75-8b90-4dd1-8936-851e227b064f"
      },
      "execution_count": 2,
      "outputs": [
        {
          "output_type": "stream",
          "name": "stdout",
          "text": [
            "\u001b[33mWARNING: Skipping keras-preprocessing as it is not installed.\u001b[0m\u001b[33m\n",
            "\u001b[0m"
          ]
        }
      ]
    },
    {
      "cell_type": "code",
      "source": [
        "pip install -q -U git+https://github.com/keras-team/keras-preprocessing.git"
      ],
      "metadata": {
        "colab": {
          "base_uri": "https://localhost:8080/"
        },
        "id": "QPUFERyuPDV7",
        "outputId": "53fc757a-6ac0-4109-a39d-67e704d085e7"
      },
      "execution_count": 3,
      "outputs": [
        {
          "output_type": "stream",
          "name": "stdout",
          "text": [
            "  Preparing metadata (setup.py) ... \u001b[?25l\u001b[?25hdone\n",
            "  Building wheel for Keras-Preprocessing (setup.py) ... \u001b[?25l\u001b[?25hdone\n"
          ]
        }
      ]
    },
    {
      "cell_type": "code",
      "execution_count": 4,
      "metadata": {
        "id": "aSsY-2nBLi7k",
        "colab": {
          "base_uri": "https://localhost:8080/"
        },
        "outputId": "93e6eac5-0e25-4d54-8670-97992556e8a3"
      },
      "outputs": [
        {
          "output_type": "stream",
          "name": "stdout",
          "text": [
            "\u001b[?25l     \u001b[90m━━━━━━━━━━━━━━━━━━━━━━━━━━━━━━━━━━━━━━━━\u001b[0m \u001b[32m0.0/176.1 kB\u001b[0m \u001b[31m?\u001b[0m eta \u001b[36m-:--:--\u001b[0m\r\u001b[2K     \u001b[90m━━━━━━━━━━━━━━━━━━━━━━━━━━━━━━━━━━━━━━━\u001b[0m \u001b[32m176.1/176.1 kB\u001b[0m \u001b[31m5.4 MB/s\u001b[0m eta \u001b[36m0:00:00\u001b[0m\n",
            "\u001b[?25h"
          ]
        }
      ],
      "source": [
        "pip install -q -U keras-tuner"
      ]
    },
    {
      "cell_type": "code",
      "execution_count": 5,
      "metadata": {
        "id": "rqoqmNK1LYnH"
      },
      "outputs": [],
      "source": [
        "import keras_tuner as kt"
      ]
    },
    {
      "cell_type": "markdown",
      "metadata": {
        "id": "WgYMokOPYoY7"
      },
      "source": [
        "## Get the data from cloud"
      ]
    },
    {
      "cell_type": "code",
      "execution_count": 6,
      "metadata": {
        "id": "m1VD1HkYXelG",
        "colab": {
          "base_uri": "https://localhost:8080/"
        },
        "outputId": "df3a04b0-f562-472e-ce95-1246cf253210"
      },
      "outputs": [
        {
          "output_type": "stream",
          "name": "stdout",
          "text": [
            "Mounted at /content/drive\n"
          ]
        }
      ],
      "source": [
        "from google.colab import drive\n",
        "drive.mount('/content/drive')"
      ]
    },
    {
      "cell_type": "code",
      "execution_count": 7,
      "metadata": {
        "id": "V6QvkZFwXe6j"
      },
      "outputs": [],
      "source": [
        "zip_ref = zipfile.ZipFile('/content/drive/MyDrive/CatsDogs.zip', 'r') # Open the zip file containing all the images\n",
        "zip_ref.extractall('/tmp') # Extract the file in /tmp folder\n",
        "zip_ref.close()"
      ]
    },
    {
      "cell_type": "markdown",
      "metadata": {
        "id": "ZOgqsnvqkMjj"
      },
      "source": [
        "## Removing corrupted images"
      ]
    },
    {
      "cell_type": "code",
      "execution_count": 8,
      "metadata": {
        "id": "o8WZCFi0CAS3"
      },
      "outputs": [],
      "source": [
        "# Assignment of paths\n",
        "cat_path = glob.glob(\"./../tmp/CatsDogs/Cats/*.jpg\")\n",
        "dog_path = glob.glob(\"./../tmp/CatsDogs/Dogs/*.jpg\")\n",
        "paths = list([cat_path, dog_path])"
      ]
    },
    {
      "cell_type": "code",
      "source": [
        "#  generic code for removing corrupted images\n",
        "num_skipped = 0\n",
        "total = 0\n",
        "for path in paths:\n",
        "  for filename in path:\n",
        "    if os.path.exists(filename):\n",
        "      try:\n",
        "        total += 1\n",
        "        with open(filename, \"rb\") as fobj:\n",
        "          is_jfif = tf.compat.as_bytes(\"JFIF\") in fobj.peek(10)\n",
        "      except IOError:\n",
        "        pass\n",
        "      if not is_jfif:\n",
        "        num_skipped += 1\n",
        "        # Deleting corrupted image\n",
        "        os.remove(filename)\n",
        " \n",
        "\n"
      ],
      "metadata": {
        "id": "Vi7B7Hr59frl"
      },
      "execution_count": 9,
      "outputs": []
    },
    {
      "cell_type": "markdown",
      "source": [
        "**Concatanete data frames **\n",
        "not stratifying this time"
      ],
      "metadata": {
        "id": "cjJBBoBKEOdE"
      }
    },
    {
      "cell_type": "code",
      "source": [
        "df_cat = pd.DataFrame({\"img_name\": [f\"/tmp/CatsDogs/Cats/{i}\" for i in os.listdir('/tmp/CatsDogs/Cats')]})\n",
        "df_cat[\"label\"] = \"cat\"\n",
        "df_dog = pd.DataFrame({\"img_name\": [f\"/tmp/CatsDogs/Dogs/{i}\" for i in os.listdir('/tmp/CatsDogs/Dogs')]})\n",
        "df_dog[\"label\"] = \"dog\"\n",
        "mixedF = pd.concat([df_cat, df_dog], ignore_index=True)\n",
        "mixedF = mixedF.sample(frac=1, random_state = 789).reset_index(drop=True) # shuffles and drops old index, shuffle is reproducable"
      ],
      "metadata": {
        "id": "6YwlRvLkDwOj"
      },
      "execution_count": 10,
      "outputs": []
    },
    {
      "cell_type": "code",
      "source": [
        "# Splits as training set and test set\n",
        "trainPlusval_df, test_df = train_test_split(mixedF, test_size=0.2, random_state = 789)\n",
        "     \n",
        "\n",
        "# Splits training set into training and validation set (15% validation)\n",
        "train_df, val_df = train_test_split(trainPlusval_df, test_size=0.15, random_state = 789)"
      ],
      "metadata": {
        "id": "J1bfcoelDwZb"
      },
      "execution_count": 11,
      "outputs": []
    },
    {
      "cell_type": "code",
      "source": [],
      "metadata": {
        "id": "WJqylYJ3Fs9Q"
      },
      "execution_count": 11,
      "outputs": []
    },
    {
      "cell_type": "code",
      "source": [],
      "metadata": {
        "id": "2QQmmEVwQY26"
      },
      "execution_count": 11,
      "outputs": []
    },
    {
      "cell_type": "markdown",
      "source": [
        "Data generators to prevent ram crashes on **Colab** free plan"
      ],
      "metadata": {
        "id": "cB_gqjLxFuEI"
      }
    },
    {
      "cell_type": "code",
      "source": [
        "image_size = (160,160,3) # increased to 160x160 for model2hypt"
      ],
      "metadata": {
        "id": "JzKvhPe2QZ40"
      },
      "execution_count": 12,
      "outputs": []
    },
    {
      "cell_type": "code",
      "source": [
        "# Data Generators for normalising images\n",
        "imag_gen = ImageDataGenerator(rescale=1/255) "
      ],
      "metadata": {
        "id": "4ehTWxWqDwcf"
      },
      "execution_count": 13,
      "outputs": []
    },
    {
      "cell_type": "code",
      "source": [
        "# flow_from_dataframe method of ImageDataGenerator creates data generators for training, validation, and testing\n",
        "trainPlusvalid_gen = imag_gen.flow_from_dataframe(dataframe=trainPlusval_df, \n",
        "                                                            directory=None, x_col=\"img_name\",\n",
        "                                                            y_col=\"label\",\n",
        "                                                            batch_size=90, seed=789, #batch size 90 for model2hypt\n",
        "                                                            shuffle=True, class_mode=\"binary\", \n",
        "                                                            target_size=image_size[0:2]) # img size decreased to 160x160\n",
        "\n",
        "test_gen = imag_gen.flow_from_dataframe(dataframe = test_df, directory=None,\n",
        "                                                          x_col=\"img_name\", y_col=\"label\",\n",
        "                                                          batch_size=90, \n",
        "                                                          seed=789, shuffle=True, class_mode=\"binary\",\n",
        "                                                          target_size=image_size[0:2])\n",
        "\n",
        "train_gen = imag_gen.flow_from_dataframe(dataframe=train_df, \n",
        "                                                            directory=None, x_col=\"img_name\",\n",
        "                                                            y_col=\"label\",\n",
        "                                                            batch_size=90, seed=789,\n",
        "                                                            shuffle=True, class_mode=\"binary\", \n",
        "                                                            target_size=image_size[0:2])\n",
        "\n",
        "valid_gen = imag_gen.flow_from_dataframe(dataframe= val_df, \n",
        "                                                            directory=None, x_col=\"img_name\",\n",
        "                                                            y_col=\"label\",\n",
        "                                                            batch_size=90, seed=789,\n",
        "                                                            shuffle=True, class_mode=\"binary\", # 0 or 1 labels cats or dog\n",
        "                                                            target_size=image_size[0:2])"
      ],
      "metadata": {
        "colab": {
          "base_uri": "https://localhost:8080/"
        },
        "id": "N_h4WggoDwfk",
        "outputId": "5eb7d87e-e4f1-4b09-c4f2-b2d8eb77b67e"
      },
      "execution_count": 14,
      "outputs": [
        {
          "output_type": "stream",
          "name": "stdout",
          "text": [
            "Found 18728 validated image filenames belonging to 2 classes.\n",
            "Found 4682 validated image filenames belonging to 2 classes.\n",
            "Found 15918 validated image filenames belonging to 2 classes.\n",
            "Found 2810 validated image filenames belonging to 2 classes.\n"
          ]
        }
      ]
    },
    {
      "cell_type": "markdown",
      "source": [
        "Model CV (5-fold) "
      ],
      "metadata": {
        "id": "V8GyjYjWMlSA"
      }
    },
    {
      "cell_type": "code",
      "source": [
        "import scipy as scipy\n",
        "from multiprocessing import Queue\n",
        "import sklearn\n",
        "import pandas as pd\n",
        "import numpy as np\n",
        "import datetime\n",
        "from PIL import Image # to open images\n",
        "import os\n",
        "import tensorflow as tf\n",
        "from tensorflow import keras\n",
        "from keras.preprocessing.image import ImageDataGenerator\n",
        "from tensorflow.keras.models import Sequential\n",
        "from tensorflow.keras.layers import Dense, Dropout, Activation, Flatten, BatchNormalization\n",
        "from tensorflow.keras.layers import Conv2D, MaxPooling2D, AveragePooling2D\n",
        "from tensorflow.keras.callbacks import EarlyStopping, ModelCheckpoint\n",
        "import matplotlib.pyplot as plt\n",
        "import shutil\n"
      ],
      "metadata": {
        "id": "1B7gtb15JzEO"
      },
      "execution_count": 18,
      "outputs": []
    },
    {
      "cell_type": "code",
      "source": [
        "from sklearn.model_selection import KFold, train_test_split\n",
        "import pickle\n",
        "\n",
        "train_df, valid_df = train_test_split(train_df, \n",
        "                                   test_size = 0.12, \n",
        "                                   random_state = 789)\n",
        "\n",
        "folds = KFold(n_splits=5, shuffle = True, random_state = 789)"
      ],
      "metadata": {
        "id": "_O0Mkrm8IxSv"
      },
      "execution_count": 19,
      "outputs": []
    },
    {
      "cell_type": "code",
      "source": [
        "from tensorflow.keras.layers.experimental.preprocessing import RandomFlip\n",
        "from tensorflow.keras.layers.experimental.preprocessing import RandomRotation\n",
        "from tensorflow.keras.layers.experimental.preprocessing import RandomZoom\n",
        "from tensorflow.keras.layers import Dropout\n",
        "modelCV = Sequential(name=\"MODEL_CV\")\n",
        "#Data Augmentation\n",
        "modelCV.add(RandomFlip('horizontal'))\n",
        "modelCV.add(RandomRotation(0.15))\n",
        "modelCV.add(RandomZoom(0.15))\n",
        "# add padding to the first Conv2D layer\n",
        "modelCV.add(Conv2D(32, (3, 3), strides=(2, 2) ,input_shape=image_size, padding='valid'))  \n",
        "modelCV.add(Activation('relu'))\n",
        "modelCV.add(MaxPooling2D(pool_size=(2, 2))) \n",
        "\n",
        "modelCV.add(Conv2D(128, (3, 3), strides=(2, 2), padding='valid' ))\n",
        "modelCV.add(Activation('relu'))\n",
        "modelCV.add(MaxPooling2D(pool_size=(2, 2)))\n",
        "# added hidden layer model2hypt\n",
        "modelCV.add(Conv2D(256, (3, 3), strides=(2, 2), padding='valid'))\n",
        "modelCV.add(Activation('relu'))\n",
        "modelCV.add(MaxPooling2D(pool_size=(2, 2)))\n",
        "#Dropout\n",
        "modelCV.add(Dropout(0.25))\n",
        "\n",
        "modelCV.add(Flatten())  \n",
        "modelCV.add(Dense(32))\n",
        "#Dropout\n",
        "modelCV.add(Dropout(0.30))\n",
        "\n",
        "modelCV.add(Dense(1))\n",
        "modelCV.add(Activation('sigmoid'))\n",
        "\n"
      ],
      "metadata": {
        "id": "Qlg4WFTKDwlI"
      },
      "execution_count": 31,
      "outputs": []
    },
    {
      "cell_type": "code",
      "source": [
        "model_cv=modelCV"
      ],
      "metadata": {
        "id": "Zs-TqwLZRaGL"
      },
      "execution_count": 35,
      "outputs": []
    },
    {
      "cell_type": "code",
      "source": [
        "model_cv_checkpoint = ModelCheckpoint(\"Model_CV\", monitor=\"val_accuracy\", verbose=1, save_best_only=True, mode=\"max\")\n"
      ],
      "metadata": {
        "id": "76MDjFuHWLG7"
      },
      "execution_count": 36,
      "outputs": []
    },
    {
      "cell_type": "code",
      "source": [
        "kf = KFold(n_splits = 5, shuffle = True, random_state = 789)\n",
        "kfVal = KFold(n_splits = 5, shuffle = True, random_state = 789)\n",
        "\n",
        "# loop for mixed df of cats and dogs \n",
        "for val_train_index, test_index in kf.split(mixedF):\n",
        "    # Splitted before as training set and test set --- trainPlusval and test set\n",
        "    val_train, df_test = mixedF.iloc[val_train_index], mixedF.iloc[test_index]\n",
        "    \n",
        "    train, validation = next(kfVal.split(val_train))\n",
        "    \n",
        "    # Splitted before training set into training and validation set (15% validation)\n",
        "    df_train, df_validation = val_train.iloc[train], val_train.iloc[validation]\n",
        "   \n",
        "\n",
        "    # GENERATORS\n",
        "    train_data_generator = imag_gen.flow_from_dataframe(df_train, \n",
        "                                                   directory = None,\n",
        "                                                   x_col = \"img_name\", \n",
        "                                                   y_col = \"label\",\n",
        "                                                   class_mode = \"binary\", \n",
        "                                                   shuffle = True,\n",
        "                                                   seed = 789,\n",
        "                                                   target_size=image_size[0:2], \n",
        "                                                   batch_size = 90),\n",
        "    \n",
        "    valid_data_generator  = imag_gen.flow_from_dataframe(df_validation, \n",
        "                                                    directory = None, \n",
        "                                                    x_col = \"img_name\",\n",
        "                                                    y_col = \"label\",\n",
        "                                                    class_mode = \"binary\", \n",
        "                                                    shuffle = True,\n",
        "                                                    seed = 789,\n",
        "                                                    target_size=image_size[0:2], # img size decreased to 160x160\n",
        "                                                    batch_size = 90),\n",
        "    \n",
        "    test_data_generator = imag_gen.flow_from_dataframe(df_test, \n",
        "                                                  directory = None, \n",
        "                                                  seed = 789,\n",
        "                                                  x_col = \"img_name\",\n",
        "                                                  y_col = \"label\",\n",
        "                                                  class_mode = \"binary\", \n",
        "                                                  shuffle = True, \n",
        "                                                  target_size=image_size[0:2], # img size decreased to 160x160)\n",
        "                                                  batch_size = 90),"
      ],
      "metadata": {
        "id": "9Pex9HPnKZzx",
        "colab": {
          "base_uri": "https://localhost:8080/"
        },
        "outputId": "a10d45ec-a416-4a28-97d3-3842633eb8f2"
      },
      "execution_count": 43,
      "outputs": [
        {
          "output_type": "stream",
          "name": "stdout",
          "text": [
            "Found 14982 validated image filenames belonging to 2 classes.\n",
            "Found 3746 validated image filenames belonging to 2 classes.\n",
            "Found 4682 validated image filenames belonging to 2 classes.\n",
            "Found 14982 validated image filenames belonging to 2 classes.\n",
            "Found 3746 validated image filenames belonging to 2 classes.\n",
            "Found 4682 validated image filenames belonging to 2 classes.\n",
            "Found 14982 validated image filenames belonging to 2 classes.\n",
            "Found 3746 validated image filenames belonging to 2 classes.\n",
            "Found 4682 validated image filenames belonging to 2 classes.\n",
            "Found 14982 validated image filenames belonging to 2 classes.\n",
            "Found 3746 validated image filenames belonging to 2 classes.\n",
            "Found 4682 validated image filenames belonging to 2 classes.\n",
            "Found 14982 validated image filenames belonging to 2 classes.\n",
            "Found 3746 validated image filenames belonging to 2 classes.\n",
            "Found 4682 validated image filenames belonging to 2 classes.\n"
          ]
        }
      ]
    },
    {
      "cell_type": "code",
      "source": [
        "# Compile the model\n",
        "model_cv.compile(loss='binary_crossentropy',\n",
        "                   optimizer=\"adam\",\n",
        "                    metrics=['accuracy'])\n"
      ],
      "metadata": {
        "id": "bS-evvlbKZ4j"
      },
      "execution_count": 47,
      "outputs": []
    },
    {
      "cell_type": "code",
      "source": [
        "#  FIT the modelCV\n",
        "fitCV =  model_cv.fit(train_gen,\n",
        "                    validation_data = valid_gen,\n",
        "                    steps_per_epoch = train_gen.n//train_gen.batch_size,\n",
        "                    validation_steps = valid_gen.n//valid_gen.batch_size,\n",
        "                    epochs = 20,\n",
        "                    callbacks = [model_cv_checkpoint])"
      ],
      "metadata": {
        "id": "Q_PTt93zKZ76",
        "colab": {
          "base_uri": "https://localhost:8080/"
        },
        "outputId": "8d376fce-a379-4eb2-dffd-001e9ade86b0"
      },
      "execution_count": 52,
      "outputs": [
        {
          "output_type": "stream",
          "name": "stdout",
          "text": [
            "Epoch 1/20\n",
            "176/176 [==============================] - ETA: 0s - loss: 0.6751 - accuracy: 0.5701\n",
            "Epoch 1: val_accuracy improved from -inf to 0.61577, saving model to Model_CV\n"
          ]
        },
        {
          "output_type": "stream",
          "name": "stderr",
          "text": [
            "WARNING:absl:Found untraced functions such as _jit_compiled_convolution_op, _jit_compiled_convolution_op, _jit_compiled_convolution_op while saving (showing 3 of 3). These functions will not be directly callable after loading.\n"
          ]
        },
        {
          "output_type": "stream",
          "name": "stdout",
          "text": [
            "\b\b\b\b\b\b\b\b\b\b\b\b\b\b\b\b\b\b\b\b\b\b\b\b\b\b\b\b\b\b\b\b\b\b\b\b\b\b\b\b\b\b\b\b\b\b\b\b\b\b\b\b\b\b\b\b\b\b\b\b\b\b\b\b\b\b\b\b\b\b\b\b\b\b\b\b\b\b\b\b\b\b\b\b\r176/176 [==============================] - 75s 391ms/step - loss: 0.6751 - accuracy: 0.5701 - val_loss: 0.6425 - val_accuracy: 0.6158\n",
            "Epoch 2/20\n",
            "176/176 [==============================] - ETA: 0s - loss: 0.6101 - accuracy: 0.6643\n",
            "Epoch 2: val_accuracy improved from 0.61577 to 0.69570, saving model to Model_CV\n"
          ]
        },
        {
          "output_type": "stream",
          "name": "stderr",
          "text": [
            "WARNING:absl:Found untraced functions such as _jit_compiled_convolution_op, _jit_compiled_convolution_op, _jit_compiled_convolution_op while saving (showing 3 of 3). These functions will not be directly callable after loading.\n"
          ]
        },
        {
          "output_type": "stream",
          "name": "stdout",
          "text": [
            "\b\b\b\b\b\b\b\b\b\b\b\b\b\b\b\b\b\b\b\b\b\b\b\b\b\b\b\b\b\b\b\b\b\b\b\b\b\b\b\b\b\b\b\b\b\b\b\b\b\b\b\b\b\b\b\b\b\b\b\b\b\b\b\b\b\b\b\b\b\b\b\b\b\b\b\b\b\b\b\b\b\b\b\b\r176/176 [==============================] - 74s 420ms/step - loss: 0.6101 - accuracy: 0.6643 - val_loss: 0.5719 - val_accuracy: 0.6957\n",
            "Epoch 3/20\n",
            "176/176 [==============================] - ETA: 0s - loss: 0.5688 - accuracy: 0.7049\n",
            "Epoch 3: val_accuracy improved from 0.69570 to 0.74946, saving model to Model_CV\n"
          ]
        },
        {
          "output_type": "stream",
          "name": "stderr",
          "text": [
            "WARNING:absl:Found untraced functions such as _jit_compiled_convolution_op, _jit_compiled_convolution_op, _jit_compiled_convolution_op while saving (showing 3 of 3). These functions will not be directly callable after loading.\n"
          ]
        },
        {
          "output_type": "stream",
          "name": "stdout",
          "text": [
            "\b\b\b\b\b\b\b\b\b\b\b\b\b\b\b\b\b\b\b\b\b\b\b\b\b\b\b\b\b\b\b\b\b\b\b\b\b\b\b\b\b\b\b\b\b\b\b\b\b\b\b\b\b\b\b\b\b\b\b\b\b\b\b\b\b\b\b\b\b\b\b\b\b\b\b\b\b\b\b\b\b\b\b\b\r176/176 [==============================] - 70s 399ms/step - loss: 0.5688 - accuracy: 0.7049 - val_loss: 0.5269 - val_accuracy: 0.7495\n",
            "Epoch 4/20\n",
            "176/176 [==============================] - ETA: 0s - loss: 0.5362 - accuracy: 0.7324\n",
            "Epoch 4: val_accuracy improved from 0.74946 to 0.77097, saving model to Model_CV\n"
          ]
        },
        {
          "output_type": "stream",
          "name": "stderr",
          "text": [
            "WARNING:absl:Found untraced functions such as _jit_compiled_convolution_op, _jit_compiled_convolution_op, _jit_compiled_convolution_op while saving (showing 3 of 3). These functions will not be directly callable after loading.\n"
          ]
        },
        {
          "output_type": "stream",
          "name": "stdout",
          "text": [
            "\b\b\b\b\b\b\b\b\b\b\b\b\b\b\b\b\b\b\b\b\b\b\b\b\b\b\b\b\b\b\b\b\b\b\b\b\b\b\b\b\b\b\b\b\b\b\b\b\b\b\b\b\b\b\b\b\b\b\b\b\b\b\b\b\b\b\b\b\b\b\b\b\b\b\b\b\b\b\b\b\b\b\b\b\r176/176 [==============================] - 99s 561ms/step - loss: 0.5362 - accuracy: 0.7324 - val_loss: 0.4917 - val_accuracy: 0.7710\n",
            "Epoch 5/20\n",
            "176/176 [==============================] - ETA: 0s - loss: 0.5147 - accuracy: 0.7466\n",
            "Epoch 5: val_accuracy did not improve from 0.77097\n",
            "176/176 [==============================] - 69s 390ms/step - loss: 0.5147 - accuracy: 0.7466 - val_loss: 0.4816 - val_accuracy: 0.7703\n",
            "Epoch 6/20\n",
            "176/176 [==============================] - ETA: 0s - loss: 0.5055 - accuracy: 0.7506\n",
            "Epoch 6: val_accuracy improved from 0.77097 to 0.77563, saving model to Model_CV\n"
          ]
        },
        {
          "output_type": "stream",
          "name": "stderr",
          "text": [
            "WARNING:absl:Found untraced functions such as _jit_compiled_convolution_op, _jit_compiled_convolution_op, _jit_compiled_convolution_op while saving (showing 3 of 3). These functions will not be directly callable after loading.\n"
          ]
        },
        {
          "output_type": "stream",
          "name": "stdout",
          "text": [
            "\b\b\b\b\b\b\b\b\b\b\b\b\b\b\b\b\b\b\b\b\b\b\b\b\b\b\b\b\b\b\b\b\b\b\b\b\b\b\b\b\b\b\b\b\b\b\b\b\b\b\b\b\b\b\b\b\b\b\b\b\b\b\b\b\b\b\b\b\b\b\b\b\b\b\b\b\b\b\b\b\b\b\b\b\r176/176 [==============================] - 68s 387ms/step - loss: 0.5055 - accuracy: 0.7506 - val_loss: 0.4728 - val_accuracy: 0.7756\n",
            "Epoch 7/20\n",
            "176/176 [==============================] - ETA: 0s - loss: 0.4847 - accuracy: 0.7685\n",
            "Epoch 7: val_accuracy improved from 0.77563 to 0.78961, saving model to Model_CV\n"
          ]
        },
        {
          "output_type": "stream",
          "name": "stderr",
          "text": [
            "WARNING:absl:Found untraced functions such as _jit_compiled_convolution_op, _jit_compiled_convolution_op, _jit_compiled_convolution_op while saving (showing 3 of 3). These functions will not be directly callable after loading.\n"
          ]
        },
        {
          "output_type": "stream",
          "name": "stdout",
          "text": [
            "\b\b\b\b\b\b\b\b\b\b\b\b\b\b\b\b\b\b\b\b\b\b\b\b\b\b\b\b\b\b\b\b\b\b\b\b\b\b\b\b\b\b\b\b\b\b\b\b\b\b\b\b\b\b\b\b\b\b\b\b\b\b\b\b\b\b\b\b\b\b\b\b\b\b\b\b\b\b\b\b\b\b\b\b\r176/176 [==============================] - 69s 392ms/step - loss: 0.4847 - accuracy: 0.7685 - val_loss: 0.4475 - val_accuracy: 0.7896\n",
            "Epoch 8/20\n",
            "176/176 [==============================] - ETA: 0s - loss: 0.4720 - accuracy: 0.7765\n",
            "Epoch 8: val_accuracy did not improve from 0.78961\n",
            "176/176 [==============================] - 67s 383ms/step - loss: 0.4720 - accuracy: 0.7765 - val_loss: 0.4628 - val_accuracy: 0.7842\n",
            "Epoch 9/20\n",
            "176/176 [==============================] - ETA: 0s - loss: 0.4649 - accuracy: 0.7820\n",
            "Epoch 9: val_accuracy improved from 0.78961 to 0.79355, saving model to Model_CV\n"
          ]
        },
        {
          "output_type": "stream",
          "name": "stderr",
          "text": [
            "WARNING:absl:Found untraced functions such as _jit_compiled_convolution_op, _jit_compiled_convolution_op, _jit_compiled_convolution_op while saving (showing 3 of 3). These functions will not be directly callable after loading.\n"
          ]
        },
        {
          "output_type": "stream",
          "name": "stdout",
          "text": [
            "\b\b\b\b\b\b\b\b\b\b\b\b\b\b\b\b\b\b\b\b\b\b\b\b\b\b\b\b\b\b\b\b\b\b\b\b\b\b\b\b\b\b\b\b\b\b\b\b\b\b\b\b\b\b\b\b\b\b\b\b\b\b\b\b\b\b\b\b\b\b\b\b\b\b\b\b\b\b\b\b\b\b\b\b\r176/176 [==============================] - 68s 387ms/step - loss: 0.4649 - accuracy: 0.7820 - val_loss: 0.4452 - val_accuracy: 0.7935\n",
            "Epoch 10/20\n",
            "176/176 [==============================] - ETA: 0s - loss: 0.4491 - accuracy: 0.7908\n",
            "Epoch 10: val_accuracy improved from 0.79355 to 0.81075, saving model to Model_CV\n"
          ]
        },
        {
          "output_type": "stream",
          "name": "stderr",
          "text": [
            "WARNING:absl:Found untraced functions such as _jit_compiled_convolution_op, _jit_compiled_convolution_op, _jit_compiled_convolution_op while saving (showing 3 of 3). These functions will not be directly callable after loading.\n"
          ]
        },
        {
          "output_type": "stream",
          "name": "stdout",
          "text": [
            "\b\b\b\b\b\b\b\b\b\b\b\b\b\b\b\b\b\b\b\b\b\b\b\b\b\b\b\b\b\b\b\b\b\b\b\b\b\b\b\b\b\b\b\b\b\b\b\b\b\b\b\b\b\b\b\b\b\b\b\b\b\b\b\b\b\b\b\b\b\b\b\b\b\b\b\b\b\b\b\b\b\b\b\b\r176/176 [==============================] - 72s 408ms/step - loss: 0.4491 - accuracy: 0.7908 - val_loss: 0.4160 - val_accuracy: 0.8108\n",
            "Epoch 11/20\n",
            "176/176 [==============================] - ETA: 0s - loss: 0.4403 - accuracy: 0.7989\n",
            "Epoch 11: val_accuracy did not improve from 0.81075\n",
            "176/176 [==============================] - 65s 367ms/step - loss: 0.4403 - accuracy: 0.7989 - val_loss: 0.4390 - val_accuracy: 0.8004\n",
            "Epoch 12/20\n",
            "176/176 [==============================] - ETA: 0s - loss: 0.4365 - accuracy: 0.7995\n",
            "Epoch 12: val_accuracy did not improve from 0.81075\n",
            "176/176 [==============================] - 66s 377ms/step - loss: 0.4365 - accuracy: 0.7995 - val_loss: 0.4168 - val_accuracy: 0.8082\n",
            "Epoch 13/20\n",
            "176/176 [==============================] - ETA: 0s - loss: 0.4213 - accuracy: 0.8076\n",
            "Epoch 13: val_accuracy improved from 0.81075 to 0.81577, saving model to Model_CV\n"
          ]
        },
        {
          "output_type": "stream",
          "name": "stderr",
          "text": [
            "WARNING:absl:Found untraced functions such as _jit_compiled_convolution_op, _jit_compiled_convolution_op, _jit_compiled_convolution_op while saving (showing 3 of 3). These functions will not be directly callable after loading.\n"
          ]
        },
        {
          "output_type": "stream",
          "name": "stdout",
          "text": [
            "\b\b\b\b\b\b\b\b\b\b\b\b\b\b\b\b\b\b\b\b\b\b\b\b\b\b\b\b\b\b\b\b\b\b\b\b\b\b\b\b\b\b\b\b\b\b\b\b\b\b\b\b\b\b\b\b\b\b\b\b\b\b\b\b\b\b\b\b\b\b\b\b\b\b\b\b\b\b\b\b\b\b\b\b\r176/176 [==============================] - 68s 387ms/step - loss: 0.4213 - accuracy: 0.8076 - val_loss: 0.4014 - val_accuracy: 0.8158\n",
            "Epoch 14/20\n",
            "176/176 [==============================] - ETA: 0s - loss: 0.4222 - accuracy: 0.8072\n",
            "Epoch 14: val_accuracy did not improve from 0.81577\n",
            "176/176 [==============================] - 66s 377ms/step - loss: 0.4222 - accuracy: 0.8072 - val_loss: 0.4015 - val_accuracy: 0.8136\n",
            "Epoch 15/20\n",
            "176/176 [==============================] - ETA: 0s - loss: 0.4125 - accuracy: 0.8124\n",
            "Epoch 15: val_accuracy improved from 0.81577 to 0.83763, saving model to Model_CV\n"
          ]
        },
        {
          "output_type": "stream",
          "name": "stderr",
          "text": [
            "WARNING:absl:Found untraced functions such as _jit_compiled_convolution_op, _jit_compiled_convolution_op, _jit_compiled_convolution_op while saving (showing 3 of 3). These functions will not be directly callable after loading.\n"
          ]
        },
        {
          "output_type": "stream",
          "name": "stdout",
          "text": [
            "\b\b\b\b\b\b\b\b\b\b\b\b\b\b\b\b\b\b\b\b\b\b\b\b\b\b\b\b\b\b\b\b\b\b\b\b\b\b\b\b\b\b\b\b\b\b\b\b\b\b\b\b\b\b\b\b\b\b\b\b\b\b\b\b\b\b\b\b\b\b\b\b\b\b\b\b\b\b\b\b\b\b\b\b\r176/176 [==============================] - 70s 397ms/step - loss: 0.4125 - accuracy: 0.8124 - val_loss: 0.3785 - val_accuracy: 0.8376\n",
            "Epoch 16/20\n",
            "176/176 [==============================] - ETA: 0s - loss: 0.4070 - accuracy: 0.8179\n",
            "Epoch 16: val_accuracy did not improve from 0.83763\n",
            "176/176 [==============================] - 67s 380ms/step - loss: 0.4070 - accuracy: 0.8179 - val_loss: 0.3935 - val_accuracy: 0.8186\n",
            "Epoch 17/20\n",
            "176/176 [==============================] - ETA: 0s - loss: 0.3990 - accuracy: 0.8182\n",
            "Epoch 17: val_accuracy did not improve from 0.83763\n",
            "176/176 [==============================] - 65s 367ms/step - loss: 0.3990 - accuracy: 0.8182 - val_loss: 0.4440 - val_accuracy: 0.7925\n",
            "Epoch 18/20\n",
            "176/176 [==============================] - ETA: 0s - loss: 0.3885 - accuracy: 0.8245\n",
            "Epoch 18: val_accuracy did not improve from 0.83763\n",
            "176/176 [==============================] - 67s 383ms/step - loss: 0.3885 - accuracy: 0.8245 - val_loss: 0.3963 - val_accuracy: 0.8168\n",
            "Epoch 19/20\n",
            "176/176 [==============================] - ETA: 0s - loss: 0.3938 - accuracy: 0.8204\n",
            "Epoch 19: val_accuracy did not improve from 0.83763\n",
            "176/176 [==============================] - 66s 375ms/step - loss: 0.3938 - accuracy: 0.8204 - val_loss: 0.3647 - val_accuracy: 0.8373\n",
            "Epoch 20/20\n",
            "176/176 [==============================] - ETA: 0s - loss: 0.3852 - accuracy: 0.8240\n",
            "Epoch 20: val_accuracy improved from 0.83763 to 0.84086, saving model to Model_CV\n"
          ]
        },
        {
          "output_type": "stream",
          "name": "stderr",
          "text": [
            "WARNING:absl:Found untraced functions such as _jit_compiled_convolution_op, _jit_compiled_convolution_op, _jit_compiled_convolution_op while saving (showing 3 of 3). These functions will not be directly callable after loading.\n"
          ]
        },
        {
          "output_type": "stream",
          "name": "stdout",
          "text": [
            "\b\b\b\b\b\b\b\b\b\b\b\b\b\b\b\b\b\b\b\b\b\b\b\b\b\b\b\b\b\b\b\b\b\b\b\b\b\b\b\b\b\b\b\b\b\b\b\b\b\b\b\b\b\b\b\b\b\b\b\b\b\b\b\b\b\b\b\b\b\b\b\b\b\b\b\b\b\b\b\b\b\b\b\b\r176/176 [==============================] - 68s 388ms/step - loss: 0.3852 - accuracy: 0.8240 - val_loss: 0.3552 - val_accuracy: 0.8409\n"
          ]
        }
      ]
    },
    {
      "cell_type": "code",
      "source": [
        "model_cv_history = []"
      ],
      "metadata": {
        "id": "rV9pDew4KaBz"
      },
      "execution_count": 53,
      "outputs": []
    },
    {
      "cell_type": "code",
      "source": [
        "import matplotlib.pyplot as plt\n",
        "\n",
        "history = fitCV.history\n",
        "epochs = range(1, len(history['accuracy']) + 1)\n",
        "\n",
        "plt.plot(epochs, history['accuracy'], 'bo', label='Training accuracy')\n",
        "plt.plot(epochs, history['val_accuracy'], 'b', label='Validation accuracy')\n",
        "plt.title('Training and validation accuracy')\n",
        "plt.legend()\n",
        "\n",
        "plt.show()"
      ],
      "metadata": {
        "colab": {
          "base_uri": "https://localhost:8080/",
          "height": 452
        },
        "id": "2QIGL819n3MF",
        "outputId": "4d8bf97d-1210-46c5-e2e4-e7e4ea846df2"
      },
      "execution_count": 54,
      "outputs": [
        {
          "output_type": "display_data",
          "data": {
            "text/plain": [
              "<Figure size 640x480 with 1 Axes>"
            ],
            "image/png": "[encoded data removed]"
          },
          "metadata": {}
        }
      ]
    },
    {
      "cell_type": "code",
      "source": [
        "  # Use garbage collector for RAM and free up GPU \n",
        "\n",
        "    tf.keras.backend.clear_session()\n",
        "    gc.collect()"
      ],
      "metadata": {
        "id": "cg6gwRZ0KZ_J"
      },
      "execution_count": null,
      "outputs": []
    },
    {
      "cell_type": "code",
      "source": [
        "plt.title('Train Accuracy vs Val Accuracy')\n",
        "plt.plot(model_cv_history[0].history['accuracy'], label='Train Accuracy Fold 1', color='black')\n",
        "plt.plot(model_cv_history[0].history['val_accuracy'], label='Val Accuracy Fold 1', color='black', linestyle = \"dashdot\")\n",
        "\n",
        "plt.plot(model_cv_history[1].history['accuracy'], label='Train Accuracy Fold 2', color='red', )\n",
        "plt.plot(model_cv_history[1].history['val_accuracy'], label='Val Accuracy Fold 2', color='red', linestyle = \"dashdot\")\n",
        "\n",
        "plt.plot(model_cv_history[2].history['accuracy'], label='Train Accuracy Fold 3', color='green', )\n",
        "plt.plot(model_cv_history[2].history['val_accuracy'], label='Val Accuracy Fold 3', color='green', linestyle = \"dashdot\")\n",
        "\n",
        "plt.plot(model_cv_history[3].history['accuracy'], label='Train Accuracy Fold 4', color='blue', )\n",
        "plt.plot(model_cv_history[3].history['val_accuracy'], label='Val Accuracy Fold 4', color='blue', linestyle = \"dashdot\")\n",
        "\n",
        "plt.plot(model_cv_history[4].history['accuracy'], label='Train Accuracy Fold 5', color='orange', )\n",
        "plt.plot(model_cv_history[4].history['val_accuracy'], label='Val Accuracy Fold 5', color='orange', linestyle = \"dashdot\")\n",
        "\n",
        "plt.legend()\n",
        "plt.show()"
      ],
      "metadata": {
        "id": "U8LSDRbzKaEP",
        "colab": {
          "base_uri": "https://localhost:8080/",
          "height": 671
        },
        "outputId": "8304441a-caca-4f92-be77-43dffa8ed55e"
      },
      "execution_count": 55,
      "outputs": [
        {
          "output_type": "error",
          "ename": "IndexError",
          "evalue": "ignored",
          "traceback": [
            "\u001b[0;31m---------------------------------------------------------------------------\u001b[0m",
            "\u001b[0;31mIndexError\u001b[0m                                Traceback (most recent call last)",
            "\u001b[0;32m<ipython-input-55-a4f64dadf39b>\u001b[0m in \u001b[0;36m<cell line: 2>\u001b[0;34m()\u001b[0m\n\u001b[1;32m      1\u001b[0m \u001b[0mplt\u001b[0m\u001b[0;34m.\u001b[0m\u001b[0mtitle\u001b[0m\u001b[0;34m(\u001b[0m\u001b[0;34m'Train Accuracy vs Val Accuracy'\u001b[0m\u001b[0;34m)\u001b[0m\u001b[0;34m\u001b[0m\u001b[0;34m\u001b[0m\u001b[0m\n\u001b[0;32m----> 2\u001b[0;31m \u001b[0mplt\u001b[0m\u001b[0;34m.\u001b[0m\u001b[0mplot\u001b[0m\u001b[0;34m(\u001b[0m\u001b[0mmodel_cv_history\u001b[0m\u001b[0;34m[\u001b[0m\u001b[0;36m0\u001b[0m\u001b[0;34m]\u001b[0m\u001b[0;34m.\u001b[0m\u001b[0mhistory\u001b[0m\u001b[0;34m[\u001b[0m\u001b[0;34m'accuracy'\u001b[0m\u001b[0;34m]\u001b[0m\u001b[0;34m,\u001b[0m \u001b[0mlabel\u001b[0m\u001b[0;34m=\u001b[0m\u001b[0;34m'Train Accuracy Fold 1'\u001b[0m\u001b[0;34m,\u001b[0m \u001b[0mcolor\u001b[0m\u001b[0;34m=\u001b[0m\u001b[0;34m'black'\u001b[0m\u001b[0;34m)\u001b[0m\u001b[0;34m\u001b[0m\u001b[0;34m\u001b[0m\u001b[0m\n\u001b[0m\u001b[1;32m      3\u001b[0m \u001b[0mplt\u001b[0m\u001b[0;34m.\u001b[0m\u001b[0mplot\u001b[0m\u001b[0;34m(\u001b[0m\u001b[0mmodel_cv_history\u001b[0m\u001b[0;34m[\u001b[0m\u001b[0;36m0\u001b[0m\u001b[0;34m]\u001b[0m\u001b[0;34m.\u001b[0m\u001b[0mhistory\u001b[0m\u001b[0;34m[\u001b[0m\u001b[0;34m'val_accuracy'\u001b[0m\u001b[0;34m]\u001b[0m\u001b[0;34m,\u001b[0m \u001b[0mlabel\u001b[0m\u001b[0;34m=\u001b[0m\u001b[0;34m'Val Accuracy Fold 1'\u001b[0m\u001b[0;34m,\u001b[0m \u001b[0mcolor\u001b[0m\u001b[0;34m=\u001b[0m\u001b[0;34m'black'\u001b[0m\u001b[0;34m,\u001b[0m \u001b[0mlinestyle\u001b[0m \u001b[0;34m=\u001b[0m \u001b[0;34m\"dashdot\"\u001b[0m\u001b[0;34m)\u001b[0m\u001b[0;34m\u001b[0m\u001b[0;34m\u001b[0m\u001b[0m\n\u001b[1;32m      4\u001b[0m \u001b[0;34m\u001b[0m\u001b[0m\n\u001b[1;32m      5\u001b[0m \u001b[0mplt\u001b[0m\u001b[0;34m.\u001b[0m\u001b[0mplot\u001b[0m\u001b[0;34m(\u001b[0m\u001b[0mmodel_cv_history\u001b[0m\u001b[0;34m[\u001b[0m\u001b[0;36m1\u001b[0m\u001b[0;34m]\u001b[0m\u001b[0;34m.\u001b[0m\u001b[0mhistory\u001b[0m\u001b[0;34m[\u001b[0m\u001b[0;34m'accuracy'\u001b[0m\u001b[0;34m]\u001b[0m\u001b[0;34m,\u001b[0m \u001b[0mlabel\u001b[0m\u001b[0;34m=\u001b[0m\u001b[0;34m'Train Accuracy Fold 2'\u001b[0m\u001b[0;34m,\u001b[0m \u001b[0mcolor\u001b[0m\u001b[0;34m=\u001b[0m\u001b[0;34m'red'\u001b[0m\u001b[0;34m,\u001b[0m \u001b[0;34m)\u001b[0m\u001b[0;34m\u001b[0m\u001b[0;34m\u001b[0m\u001b[0m\n",
            "\u001b[0;31mIndexError\u001b[0m: list index out of range"
          ]
        },
        {
          "output_type": "display_data",
          "data": {
            "text/plain": [
              "<Figure size 640x480 with 1 Axes>"
            ],
            "image/png": "[encoded data removed]"
          },
          "metadata": {}
        }
      ]
    },
    {
      "cell_type": "code",
      "source": [
        "plt.title('Train loss vs Validation loss')\n",
        "plt.plot(model_cv_history[5].history['loss'], label='Train loss Fold 1', color='black')\n",
        "plt.plot(model_cv_history[5].history['val_loss'], label='Val loss Fold 1', color='black', linestyle = \"dashdot\")\n",
        "\n",
        "plt.plot(model_cv_history[1].history['loss'], label='Train loss Fold 2', color='red', )\n",
        "plt.plot(model_cv_history[1].history['val_loss'], label='Val loss Fold 2', color='red', linestyle = \"dashdot\")\n",
        "\n",
        "plt.plot(model_cv_history[2].history['loss'], label='Train loss Fold 3', color='green', )\n",
        "plt.plot(model_cv_history[2].history['val_loss'], label='Val loss Fold 3', color='green', linestyle = \"dashdot\")\n",
        "\n",
        "plt.plot(model_cv_history[3].history['loss'], label='Train loss Fold 4', color='blue', )\n",
        "plt.plot(model_cv_history[3].history['val_loss'], label='Val loss Fold 4', color='blue', linestyle = \"dashdot\")\n",
        "\n",
        "plt.plot(model_cv_history[4].history['loss'], label='Train loss Fold 5', color='orange', )\n",
        "plt.plot(model_cv_history[4].history['val_loss'], label='Val loss Fold 5', color='orange', linestyle = \"dashdot\")\n",
        "\n",
        "plt.legend()\n",
        "plt.show()"
      ],
      "metadata": {
        "id": "WdOHJ6GpVfK5",
        "colab": {
          "base_uri": "https://localhost:8080/",
          "height": 671
        },
        "outputId": "5e60075f-82da-4942-d85f-8df70a0ebbb9"
      },
      "execution_count": 57,
      "outputs": [
        {
          "output_type": "error",
          "ename": "IndexError",
          "evalue": "ignored",
          "traceback": [
            "\u001b[0;31m---------------------------------------------------------------------------\u001b[0m",
            "\u001b[0;31mIndexError\u001b[0m                                Traceback (most recent call last)",
            "\u001b[0;32m<ipython-input-57-4b1c9bc93e61>\u001b[0m in \u001b[0;36m<cell line: 2>\u001b[0;34m()\u001b[0m\n\u001b[1;32m      1\u001b[0m \u001b[0mplt\u001b[0m\u001b[0;34m.\u001b[0m\u001b[0mtitle\u001b[0m\u001b[0;34m(\u001b[0m\u001b[0;34m'Train loss vs Validation loss'\u001b[0m\u001b[0;34m)\u001b[0m\u001b[0;34m\u001b[0m\u001b[0;34m\u001b[0m\u001b[0m\n\u001b[0;32m----> 2\u001b[0;31m \u001b[0mplt\u001b[0m\u001b[0;34m.\u001b[0m\u001b[0mplot\u001b[0m\u001b[0;34m(\u001b[0m\u001b[0mmodel_cv_history\u001b[0m\u001b[0;34m[\u001b[0m\u001b[0;36m5\u001b[0m\u001b[0;34m]\u001b[0m\u001b[0;34m.\u001b[0m\u001b[0mhistory\u001b[0m\u001b[0;34m[\u001b[0m\u001b[0;34m'loss'\u001b[0m\u001b[0;34m]\u001b[0m\u001b[0;34m,\u001b[0m \u001b[0mlabel\u001b[0m\u001b[0;34m=\u001b[0m\u001b[0;34m'Train loss Fold 1'\u001b[0m\u001b[0;34m,\u001b[0m \u001b[0mcolor\u001b[0m\u001b[0;34m=\u001b[0m\u001b[0;34m'black'\u001b[0m\u001b[0;34m)\u001b[0m\u001b[0;34m\u001b[0m\u001b[0;34m\u001b[0m\u001b[0m\n\u001b[0m\u001b[1;32m      3\u001b[0m \u001b[0mplt\u001b[0m\u001b[0;34m.\u001b[0m\u001b[0mplot\u001b[0m\u001b[0;34m(\u001b[0m\u001b[0mmodel_cv_history\u001b[0m\u001b[0;34m[\u001b[0m\u001b[0;36m5\u001b[0m\u001b[0;34m]\u001b[0m\u001b[0;34m.\u001b[0m\u001b[0mhistory\u001b[0m\u001b[0;34m[\u001b[0m\u001b[0;34m'val_loss'\u001b[0m\u001b[0;34m]\u001b[0m\u001b[0;34m,\u001b[0m \u001b[0mlabel\u001b[0m\u001b[0;34m=\u001b[0m\u001b[0;34m'Val loss Fold 1'\u001b[0m\u001b[0;34m,\u001b[0m \u001b[0mcolor\u001b[0m\u001b[0;34m=\u001b[0m\u001b[0;34m'black'\u001b[0m\u001b[0;34m,\u001b[0m \u001b[0mlinestyle\u001b[0m \u001b[0;34m=\u001b[0m \u001b[0;34m\"dashdot\"\u001b[0m\u001b[0;34m)\u001b[0m\u001b[0;34m\u001b[0m\u001b[0;34m\u001b[0m\u001b[0m\n\u001b[1;32m      4\u001b[0m \u001b[0;34m\u001b[0m\u001b[0m\n\u001b[1;32m      5\u001b[0m \u001b[0mplt\u001b[0m\u001b[0;34m.\u001b[0m\u001b[0mplot\u001b[0m\u001b[0;34m(\u001b[0m\u001b[0mmodel_cv_history\u001b[0m\u001b[0;34m[\u001b[0m\u001b[0;36m1\u001b[0m\u001b[0;34m]\u001b[0m\u001b[0;34m.\u001b[0m\u001b[0mhistory\u001b[0m\u001b[0;34m[\u001b[0m\u001b[0;34m'loss'\u001b[0m\u001b[0;34m]\u001b[0m\u001b[0;34m,\u001b[0m \u001b[0mlabel\u001b[0m\u001b[0;34m=\u001b[0m\u001b[0;34m'Train loss Fold 2'\u001b[0m\u001b[0;34m,\u001b[0m \u001b[0mcolor\u001b[0m\u001b[0;34m=\u001b[0m\u001b[0;34m'red'\u001b[0m\u001b[0;34m,\u001b[0m \u001b[0;34m)\u001b[0m\u001b[0;34m\u001b[0m\u001b[0;34m\u001b[0m\u001b[0m\n",
            "\u001b[0;31mIndexError\u001b[0m: list index out of range"
          ]
        },
        {
          "output_type": "display_data",
          "data": {
            "text/plain": [
              "<Figure size 640x480 with 1 Axes>"
            ],
            "image/png": "[encoded data removed]"
          },
          "metadata": {}
        }
      ]
    },
    {
      "cell_type": "code",
      "source": [],
      "metadata": {
        "id": "PXeAUcz6VfOc"
      },
      "execution_count": null,
      "outputs": []
    },
    {
      "cell_type": "code",
      "source": [],
      "metadata": {
        "id": "haEJlicEVfRo"
      },
      "execution_count": null,
      "outputs": []
    },
    {
      "cell_type": "code",
      "source": [],
      "metadata": {
        "id": "zjvII1cDVfUa"
      },
      "execution_count": null,
      "outputs": []
    },
    {
      "cell_type": "code",
      "source": [],
      "metadata": {
        "id": "TqqpUjvmVfXF"
      },
      "execution_count": null,
      "outputs": []
    },
    {
      "cell_type": "code",
      "source": [],
      "metadata": {
        "id": "rW5smHxRVfac"
      },
      "execution_count": null,
      "outputs": []
    },
    {
      "cell_type": "code",
      "source": [],
      "metadata": {
        "id": "zl7VTuwxDwqJ"
      },
      "execution_count": null,
      "outputs": []
    },
    {
      "cell_type": "code",
      "source": [],
      "metadata": {
        "id": "vn8n4rRlDwtN"
      },
      "execution_count": null,
      "outputs": []
    },
    {
      "cell_type": "code",
      "source": [],
      "metadata": {
        "id": "E7Zq_0wPDwwS"
      },
      "execution_count": null,
      "outputs": []
    },
    {
      "cell_type": "code",
      "source": [],
      "metadata": {
        "id": "Ah4M_Im1DwzD"
      },
      "execution_count": null,
      "outputs": []
    },
    {
      "cell_type": "code",
      "source": [],
      "metadata": {
        "id": "wR33xxwcDw1x"
      },
      "execution_count": null,
      "outputs": []
    },
    {
      "cell_type": "code",
      "source": [],
      "metadata": {
        "id": "4mBu9PndDw4Z"
      },
      "execution_count": null,
      "outputs": []
    },
    {
      "cell_type": "code",
      "source": [],
      "metadata": {
        "id": "oZxGmO2eDw60"
      },
      "execution_count": null,
      "outputs": []
    },
    {
      "cell_type": "code",
      "source": [],
      "metadata": {
        "id": "a_z0UfupkU8Z"
      },
      "execution_count": null,
      "outputs": []
    },
    {
      "cell_type": "code",
      "source": [],
      "metadata": {
        "id": "eclIyShukU--"
      },
      "execution_count": null,
      "outputs": []
    }
  ],
  "metadata": {
    "colab": {
      "provenance": [],
      "include_colab_link": true
    },
    "kernelspec": {
      "display_name": "Python 3",
      "name": "python3"
    },
    "language_info": {
      "name": "python"
    },
    "accelerator": "GPU",
    "gpuClass": "standard"
  },
  "nbformat": 4,
  "nbformat_minor": 0
}